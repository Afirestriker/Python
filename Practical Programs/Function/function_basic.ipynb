{
 "cells": [
  {
   "cell_type": "code",
   "execution_count": null,
   "metadata": {},
   "outputs": [],
   "source": []
  },
  {
   "cell_type": "code",
   "execution_count": null,
   "metadata": {},
   "outputs": [],
   "source": [
    "\n",
    "# Accept two numbers from user and perform addition using function\n",
    "\n",
    "num1 = int(input(\"Enter number 1: \"))\n",
    "num2 = int(input(\"Enter Nubmer 2: \"))\n",
    "\n",
    "def addition(n1, n2):\n",
    "    return n1+n2\n",
    "\n",
    "print(f\"Addition: {addition(num1, num2)}\")\n"
   ]
  },
  {
   "cell_type": "code",
   "execution_count": null,
   "metadata": {},
   "outputs": [],
   "source": [
    "\n",
    "# Definition function and execution/call to function\n",
    "\n",
    "# Parameter are the variable define in function definition\n",
    "def funcname(para):\n",
    "        print(para)\n",
    "\n",
    "# Argument are the varialbe pass in function call\n",
    "funcname(\"Argument\")\n"
   ]
  },
  {
   "cell_type": "code",
   "execution_count": null,
   "metadata": {},
   "outputs": [],
   "source": [
    "\n",
    "# Function default parameter\n",
    "def sumnum(n1=20, n2=40):\n",
    "        print(n1+n2)\n",
    "\n",
    "sumnum()\n",
    "sumnum(30)\n",
    "sumnum(2, 6)\n",
    "print(\"**************\")\n",
    "\n",
    "# Function * Arbitary arguments\n",
    "# when the user is not sure about the no. of arguments then we can use arbitary arguments\n",
    "def city(*cty):\n",
    "    for c in cty:\n",
    "        print(c, end=\" \")\n",
    "    print()\n",
    "    print(cty[2])\n",
    "\n",
    "city(\"City1\", \"city2\", \"city3\")\n",
    "print(\"**************\")\n",
    "\n",
    "\n",
    "# Function - Passing list as argument\n",
    "def func1(num):\n",
    "    for i in num:\n",
    "        print(i)\n",
    "\n",
    "# This is not an array, but a list\n",
    "arr = [2, 4, 6, 8, \"str\"]\n",
    "func1(arr)\n",
    "print(\"*****************\")\n",
    "\n",
    "# Function with return statement\n",
    "def cube(num):\n",
    "    return num*num*num\n",
    "\n",
    "print (cube(4))\n",
    "print (cube(5))\n",
    "print(\"*************\")\n",
    "\n",
    "# Storing = Return value of function\n",
    "def sq(num):\n",
    "    return num*num\n",
    "\n",
    "square = sq(2)\n",
    "print(square)\n",
    "print(\"*************\")\n"
   ]
  }
 ],
 "metadata": {
  "language_info": {
   "name": "python"
  },
  "orig_nbformat": 4
 },
 "nbformat": 4,
 "nbformat_minor": 2
}
