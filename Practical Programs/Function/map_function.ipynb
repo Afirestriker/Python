{
 "cells": [
  {
   "cell_type": "code",
   "execution_count": null,
   "metadata": {},
   "outputs": [],
   "source": [
    "# Map function in python.\n",
    "    # map function take two argument (function, list)\n",
    "    # map return map type\n",
    "\n",
    "# map function programs\n",
    "# 1. Adding a number to itself by iterating through list using map function\n",
    "# 2. Showing the length of each word in the list by using map function\n",
    "# 3. Double/Square of all numbers in a list using map function"
   ]
  },
  {
   "cell_type": "code",
   "execution_count": 3,
   "metadata": {},
   "outputs": [
    {
     "name": "stdout",
     "output_type": "stream",
     "text": [
      "[8, 20, 112, 40]\n"
     ]
    }
   ],
   "source": [
    "# 1. Adding a number to itself by iterating through list using map function\n",
    "\n",
    "#user-define function\n",
    "def addnum(n):\n",
    "    return n + n\n",
    "\n",
    "#list\n",
    "numbers = (4,10,56,20)\n",
    "\n",
    "#using map function\n",
    "result = map(addnum, numbers)\n",
    "\n",
    "print(list(result))\n"
   ]
  },
  {
   "cell_type": "code",
   "execution_count": 24,
   "metadata": {},
   "outputs": [
    {
     "name": "stdout",
     "output_type": "stream",
     "text": [
      "Length of lily is 4\n",
      "Length of rose is 4\n",
      "Length of Sunflower is 9\n",
      "(4, 4, 9)\n"
     ]
    }
   ],
   "source": [
    "# 2. Showing the length of each word in the list by using map function\n",
    "\n",
    "def lenStr(word):\n",
    "        print(f\"Length of {word} is {len(word)}\")\n",
    "        return len(word)\n",
    "        \n",
    "flowers = tuple((\"lily\", \"rose\", \"Sunflower\"))\n",
    "\n",
    "result = map(lenStr, flowers)\n",
    "\n",
    "print(tuple(result))"
   ]
  },
  {
   "cell_type": "code",
   "execution_count": 25,
   "metadata": {},
   "outputs": [
    {
     "name": "stdout",
     "output_type": "stream",
     "text": [
      "[1, 400, 25, 64]\n"
     ]
    }
   ],
   "source": [
    "# 3. Double/Square of all numbers in a list using map function\n",
    "\n",
    "def sq(n):\n",
    "    return n*n \n",
    "\n",
    "numbers = [1, 20, 5, 8]\n",
    "\n",
    "result = map(sq, numbers)\n",
    "\n",
    "print(list(result))\n"
   ]
  }
 ],
 "metadata": {
  "language_info": {
   "name": "python"
  },
  "orig_nbformat": 4
 },
 "nbformat": 4,
 "nbformat_minor": 2
}
