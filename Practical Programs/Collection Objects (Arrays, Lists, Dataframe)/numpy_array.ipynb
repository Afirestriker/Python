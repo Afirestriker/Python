{
 "cells": [
  {
   "cell_type": "code",
   "execution_count": null,
   "metadata": {},
   "outputs": [],
   "source": [
    "# Using NumPy python library, used for working with arrays\n",
    "# Note: Array object in numpy is called ndarrray.\n",
    "\n",
    "# 0-D Array\n",
    "#Program1: Declare, Initialize and Display 0-D Array\n",
    "\n",
    "# 1-D Array\n",
    "#Program2: Declare, Initialize and Display 1-D Array\n",
    "#Program3: Array Slicing\n",
    "#Program4: Sum of array elements\n",
    "\n",
    "# 2-D Array\n",
    "#Program5: Declare, Initialize and Display 2-D Array\n",
    "\n",
    "# 3-D Array\n",
    "#Program6: Declare, Initialize and Display 3-D Array\n",
    "#Program7: Declare, Initialize and Display 3-D Array\n",
    "\n",
    "# Arrays Practical Programs\n",
    "# 1. Create an 1-D integer array by accepting the size and elements from user, and display the same\n",
    "# 2. Create an 2-D integer array by accepting the size and elements from user, and display the same\n",
    "# 3. Create an 1-D integer array and perform operations on arrays using numpy methods such as\n",
    "\t# 1. sorting the array in ascending and descending order\n",
    "\t# 2. Finding the minimum element from an array\n",
    "\t# 3. Finding the maximum element from an array\n",
    "\t# 4. Finding the average element from an array\n",
    "\n",
    "# 4. Create an 2-D integer array by accepting the size and element from user\n",
    "\t#and perform operations on arrays using numpy methods such as\n",
    "\t# 1. sorting the array\n",
    "\t# 2. Finding the minimum element from an array\n",
    "\t# 3. Finding the maximum element from an array\n",
    "\t# 4. Finding the average element from an array\n",
    "\n",
    "# 5. Create two 2-D arrays and concatenate them on an axis\n",
    "# 6. Create two 3-D arrays and concatenate them on an axis\n",
    "# 7. Transpose of matrix using numpy transpose() function\n",
    "# 8. Multiplication of matrix using numpy pre-define function dot() e.g.=> arr1.dot(arr2)\n"
   ]
  },
  {
   "cell_type": "code",
   "execution_count": 6,
   "metadata": {},
   "outputs": [
    {
     "name": "stdout",
     "output_type": "stream",
     "text": [
      "65\n"
     ]
    },
    {
     "data": {
      "text/plain": [
       "array(65)"
      ]
     },
     "execution_count": 6,
     "metadata": {},
     "output_type": "execute_result"
    }
   ],
   "source": [
    "#Program1: Declared, Initialize and Display 0-D Array\n",
    "\n",
    "#Import statement\n",
    "import numpy as np\n",
    "\n",
    "# Creating 0-D Array (Note: np.array() function is having rounded bracket not the square bracket)\n",
    "arr = np.array(65)\n",
    "print(arr)\n",
    "arr"
   ]
  },
  {
   "cell_type": "code",
   "execution_count": 7,
   "metadata": {},
   "outputs": [
    {
     "name": "stdout",
     "output_type": "stream",
     "text": [
      "[11 12 13 14 15]\n"
     ]
    },
    {
     "data": {
      "text/plain": [
       "array([11, 12, 13, 14, 15])"
      ]
     },
     "execution_count": 7,
     "metadata": {},
     "output_type": "execute_result"
    }
   ],
   "source": [
    "#Program2: Declared, Initialize and Display 1-D Array\n",
    "\n",
    "#Import\n",
    "import numpy as np\n",
    "\n",
    "#Creating 1-Array, (Note: np.array([]) functin is having square bracket inside rounded bracket)\n",
    "arr = np.array([11,12,13,14,15])\n",
    "print(arr)\n",
    "arr\n"
   ]
  },
  {
   "cell_type": "code",
   "execution_count": 8,
   "metadata": {},
   "outputs": [
    {
     "name": "stdout",
     "output_type": "stream",
     "text": [
      "[12 13 14]\n",
      "[11 12 13 14]\n",
      "[14 15 16 17 18]\n"
     ]
    }
   ],
   "source": [
    "# 1-D Array\n",
    "#Program3: Array Slicing (Slicing in python means taking element from one given index to another given index.)\n",
    "\n",
    "#import\n",
    "import numpy as np\n",
    "arr = np.array([11,12,13,14,15,16,17,18])\n",
    "\n",
    "#Array slicing\n",
    "#Displaying the array element from 1st to 3rd index\n",
    "print(arr[1:4])\n",
    "\n",
    "#Displaying the Array element from beginning to 3rd index\n",
    "print(arr[:4])\n",
    "\n",
    "#Displaying the Array elemetns from 3rd index\n",
    "print(arr[3:])\n"
   ]
  },
  {
   "cell_type": "code",
   "execution_count": 14,
   "metadata": {},
   "outputs": [
    {
     "name": "stdout",
     "output_type": "stream",
     "text": [
      "26\n",
      "81\n",
      "Array Sum: 81\n"
     ]
    }
   ],
   "source": [
    "# 1-D Array\n",
    "#Program4: Sum of array elements\n",
    "\n",
    "#import\n",
    "import numpy as np\n",
    "\n",
    "arr = np.array([11,12,13,14,15,16])\n",
    "\n",
    "#Sum of two array element\n",
    "print(arr[0] + arr[4])\n",
    "\n",
    "#Sum of entire array, using pre-defined method\n",
    "print(arr.sum())\n",
    "\n",
    "#Sum of entrie array, using logic\n",
    "sum = 0\n",
    "for i in arr:\n",
    "    sum = sum + i\n",
    "print(\"Array Sum:\", sum)\n"
   ]
  },
  {
   "cell_type": "code",
   "execution_count": 56,
   "metadata": {},
   "outputs": [
    {
     "name": "stdout",
     "output_type": "stream",
     "text": [
      "[[ 11  12  13  14]\n",
      " [101 102 103 104]]\n",
      "\n",
      "Method 1:  12\n",
      "Method 2:  12\n",
      "104\n"
     ]
    }
   ],
   "source": [
    "# 2-D Array\n",
    "#Program5: Declared, Initialize and Display 2-D Array\n",
    "\n",
    "import numpy as np\n",
    "\n",
    "#Declaring 2-D Array (Note: The array declaration staring from two square bracket [[ is 2-D Array)\n",
    "arr = np.array([[11,12,13,14], [101,102,103,104]])\n",
    "\n",
    "#Displaying entire 2-D array\n",
    "print(arr)\n",
    "\n",
    "#Display the specific element of an array\n",
    "\n",
    "#Displaying the 0th row, 2nd element\n",
    "#Method 1:\n",
    "print(\"\\nMethod 1: \", arr[0,1])\n",
    "\n",
    "#Method 2:\n",
    "print(\"Method 2: \", arr[0][1])\n",
    "\n",
    "#Displaying 1st row 4th element\n",
    "print(arr[1][3])\n"
   ]
  },
  {
   "cell_type": "code",
   "execution_count": 16,
   "metadata": {},
   "outputs": [
    {
     "name": "stdout",
     "output_type": "stream",
     "text": [
      "[[[  11   12   13]\n",
      "  [ 101  102  103]\n",
      "  [1001 1002 1003]]]\n",
      "\n",
      "Displaying specific element of the array\n",
      "103\n"
     ]
    }
   ],
   "source": [
    "# 3-D Array\n",
    "#Program6: Declare, Initialize and Display 3-D Array\n",
    "\n",
    "import numpy as np\n",
    "\n",
    "#3-D array having only one layer i.e 0th layer\n",
    "arr = np.array([[[11,12,13], [101,102,103], [1001,1002,1003]]])\n",
    "\n",
    "print(arr)\n",
    "arr\n",
    "\n",
    "print(\"\\nDisplaying specific element of the array\")\n",
    "\n",
    "#Note:\n",
    "#Here, 0 -> mean 0th Layer, Given array is having one layer only so the entire row is 0th layer\n",
    "#Here, 1 -> 0th layer index 1 bracket, i.e [101,102,103]\n",
    "#Here, 2 -> 0th layer index 1 bracket 2nd index element i.e. 103\n",
    "print(arr[0,1,2])\n"
   ]
  },
  {
   "cell_type": "code",
   "execution_count": 15,
   "metadata": {},
   "outputs": [
    {
     "name": "stdout",
     "output_type": "stream",
     "text": [
      "[[[    1     2     3]\n",
      "  [   11    12    13]\n",
      "  [  101   102   103]]\n",
      "\n",
      " [[  111   112   113]\n",
      "  [ 1101  1102  1103]\n",
      "  [11001 11002 11003]]]\n",
      "\n",
      "Displaying specific element of the array\n",
      "11003\n"
     ]
    }
   ],
   "source": [
    "# 3-D Array\n",
    "#Program7: Declare, Initialize and Display 3-D Array\n",
    "\n",
    "import numpy as np\n",
    "\n",
    "#3-D array having only two layers i.e 0th and 1st layer\n",
    "arr = np.array([\n",
    "                [ [1,2,3], [11,12,13], [101,102,103] ], \n",
    "                [ [111,112,113], [1101,1102,1103], [11001,11002,11003] ]\n",
    "                ])\n",
    "\n",
    "print(arr)\n",
    "arr\n",
    "\n",
    "print(\"\\nDisplaying specific element of the array\")\n",
    "\n",
    "#Note:\n",
    "#Here, 1 -> mean 1st Layer, Given array is having two layer.\n",
    "#Here, 2 -> 1st layer index 2 bracket, i.e [11001,11002,11003]\n",
    "#Here, 2 -> 0th layer index 2 bracket 2nd index element i.e. 11003\n",
    "print(arr[1,2,2])\n"
   ]
  },
  {
   "cell_type": "code",
   "execution_count": 33,
   "metadata": {},
   "outputs": [
    {
     "name": "stdout",
     "output_type": "stream",
     "text": [
      "\n",
      "Joining two arrays:\n",
      "[1 2 3 4 5 6 7 8]\n",
      "\n",
      "Array 1: [1 2 3 4]\n",
      "Array 2: [5 6 7 8]\n",
      "Sum of Arr1 and Arr2: [ 6  8 10 12]\n"
     ]
    }
   ],
   "source": [
    "#Joining Arrays\n",
    "#Program8: Joining two 1-D Arrays\n",
    "\n",
    "import numpy as np\n",
    "\n",
    "arr1 = np.array([1,2,3,4])\n",
    "arr2 = np.array([5,6,7,8])\n",
    "\n",
    "#Concatenating/Joining two arrays\n",
    "arr = np.concatenate((arr1,arr2))\n",
    "\n",
    "#Displaying the concatenated array\n",
    "print(\"\\nJoining two arrays:\")\n",
    "print(arr)\n",
    "\n",
    "#Here we joing 2 array by using + operator which does the sum of their elements\n",
    "print(\"\\nArray 1:\",arr1)\n",
    "print(\"Array 2:\", arr2)\n",
    "arr = arr1+arr2\n",
    "print(\"Sum of Arr1 and Arr2:\", arr)\n"
   ]
  },
  {
   "cell_type": "code",
   "execution_count": 45,
   "metadata": {},
   "outputs": [
    {
     "name": "stdout",
     "output_type": "stream",
     "text": [
      "[ 1.2  5.   8.  98. ]\n"
     ]
    }
   ],
   "source": [
    "# Arrays Practical Programs\n",
    "# 1. Create an 1-D integer array by accepting the size and elements from user, and display the same\n",
    "\n",
    "#import\n",
    "import numpy as np\n",
    "\n",
    "#Accept size\n",
    "num = int(input(\"Enter Array size: \"))\n",
    "\n",
    "#Create integer type Array with user defined size\n",
    "#Note: dtype by default is float\n",
    "arr = np.ndarray(shape=(num), dtype=int)\n",
    "\n",
    "#Accept array elements from user\n",
    "for i in range(num):\n",
    "    arr[i] = input(\"Enter elements: \")\n",
    "\n",
    "print(arr)\n"
   ]
  },
  {
   "cell_type": "code",
   "execution_count": 60,
   "metadata": {},
   "outputs": [
    {
     "name": "stdout",
     "output_type": "stream",
     "text": [
      "Displaying 2-D Array:\n"
     ]
    },
    {
     "data": {
      "text/plain": [
       "array([[1, 2, 3, 4],\n",
       "       [5, 6, 7, 8]])"
      ]
     },
     "execution_count": 60,
     "metadata": {},
     "output_type": "execute_result"
    }
   ],
   "source": [
    "# Arrays Practical Programs\n",
    "# 2. Create an 2-D integer array by accepting the size and elements from user, and display the same\n",
    "\n",
    "import numpy as np\n",
    "\n",
    "#Accept 2-D Array size for number of rows and column\n",
    "rows = int(input(\"Enter Total Rows:\"))\n",
    "cols = int(input(\"Enter Total columns: \"))\n",
    "\n",
    "#Create an 2-D integer arrays\n",
    "arr = np.ndarray(shape=(rows,cols), dtype=int)\n",
    "\n",
    "#Accept elements\n",
    "for r in range(rows):\n",
    "    for c in range(cols):\n",
    "        arr[r][c] = input(\"Enter elements: \")\n",
    "\n",
    "print(\"Displaying 2-D Array:\")\n",
    "arr\n"
   ]
  },
  {
   "cell_type": "code",
   "execution_count": 87,
   "metadata": {},
   "outputs": [
    {
     "name": "stdout",
     "output_type": "stream",
     "text": [
      "Enter Element 1\n",
      "Enter Element 2\n",
      "Enter Element 3\n",
      "Enter Element 4\n",
      "Entire Array: [98 96  2 16]\n",
      "\n",
      "Sorted Array in ASC order: [ 2 16 96 98]\n",
      "Sorted Array in DSC order:  [98 96 16  2]\n",
      "\n",
      "Sum of all element: 212\n",
      "Min element: 2\n",
      "Max element: 98\n",
      "Avg element: 53.0\n"
     ]
    }
   ],
   "source": [
    "# Arrays Practical Programs\n",
    "# 3. Create an 1-D integer array by accepting size and element from user \n",
    "\t#and perform operations on arrays using numpy methods such as\n",
    "\t# 1. sorting the array in ascending and descending order\n",
    "\t# 2. Finding the minimum element from an array\n",
    "\t# 3. Finding the maximum element from an array\n",
    "\t# 4. Finding the average element from an array\n",
    "\n",
    "import numpy as np\n",
    "\n",
    "#Accept size\n",
    "size = int(input(\"Enter Size: \"))\n",
    "\n",
    "#Create array\n",
    "arr = np.ndarray(shape=(size), dtype=int)\n",
    "\n",
    "#Enter Elements\n",
    "for i in range(size):\n",
    "\tprint(\"Enter Element\",i+1)\n",
    "\tarr[i] = input()\n",
    "\n",
    "print(\"Entire Array:\", arr)\n",
    "\n",
    "#Sort array in Ascending order using pre-define method\n",
    "print(\"\\nSorted Array in ASC order:\", np.sort(arr))\n",
    "\n",
    "#Sort array in descending order using pre-define method\n",
    "print(\"Sorted Array in DSC order: \", np.sort(arr)[::-1])\n",
    "\n",
    "#Find sum,min,max,average of all array element usig pre-defined method\n",
    "print(\"\\nSum of all element:\", np.sum(arr))\n",
    "print(\"Min element:\", np.min(arr))\n",
    "print(\"Max element:\", np.max(arr))\n",
    "print(\"Avg element:\", np.average(arr))\n"
   ]
  },
  {
   "cell_type": "code",
   "execution_count": 84,
   "metadata": {},
   "outputs": [
    {
     "name": "stdout",
     "output_type": "stream",
     "text": [
      "Array: \n",
      " [[ 1  4]\n",
      " [19 98]]\n",
      "\n",
      "Sorted array:\n",
      " [[ 1  4]\n",
      " [19 98]]\n",
      "\n",
      "Sum of array:  122\n",
      "Min of array: 1\n",
      "Max of array:  98\n",
      "Average of array:  30.5\n"
     ]
    }
   ],
   "source": [
    "# Arrays Practical Programs\n",
    "# 4. Create an 2-D integer array by accepting the size and element from user\n",
    "\t#and perform operations on arrays using numpy methods such as\n",
    "\t# 1. sorting the array\n",
    "\t# 2. Finding the minimum element from an array\n",
    "\t# 3. Finding the maximum element from an array\n",
    "\t# 4. Finding the average element from an array\n",
    "\n",
    "import numpy as np\n",
    "\n",
    "rows = int(input(\"Total rows: \"))\n",
    "cols = int(input(\"Total cols: \"))\n",
    "\n",
    "#Create an 2-D array\n",
    "arr = np.ndarray(shape=(rows,cols), dtype=int)\n",
    "\n",
    "#Accept elements\n",
    "for r in range(rows):\n",
    "\tfor c in range(cols):\n",
    "\t\tarr[r][c] = input(\"Enter Element: \")\n",
    "\n",
    "print(\"Array: \\n\", arr)\n",
    "\n",
    "#Sort the array\n",
    "# Note: Here sort method sort each and every rows, not a entire arrays in ascending order\n",
    "print(\"\\nSorted array:\\n\", np.sort(arr))\n",
    "\n",
    "#Find sum, min, max, average of 2-D Array using pre-define method\n",
    "print(\"\\nSum of array: \", np.sum(arr))\n",
    "print(\"Min of array:\", np.min(arr))\n",
    "print(\"Max of array: \", np.max(arr))\n",
    "print(\"Average of array: \", np.average(arr))\n"
   ]
  },
  {
   "cell_type": "code",
   "execution_count": 71,
   "metadata": {},
   "outputs": [
    {
     "name": "stdout",
     "output_type": "stream",
     "text": [
      "Array 1: \n",
      "[[11 12]\n",
      " [13 14]]\n",
      "\n",
      "Array 2: \n",
      "[[10 20]\n",
      " [30 40]]\n",
      "\n",
      "Array 3 with axis 1: \n",
      "[[11 12 10 20]\n",
      " [13 14 30 40]]\n",
      "\n",
      "Array 3 with axis 0: \n",
      "[[11 12]\n",
      " [13 14]\n",
      " [10 20]\n",
      " [30 40]]\n"
     ]
    }
   ],
   "source": [
    "# Arrays Practical Programs\n",
    "# 5. Create two 2-D arrays and concatenate them on an axis\n",
    "\n",
    "import numpy as np\n",
    "\n",
    "arr1=np.array( [ [11,12], [13,14] ])\n",
    "arr2=np.array( [ [10,20],[30,40] ] )\n",
    "\n",
    "print(\"Array 1: \")\n",
    "print(arr1)\n",
    "\n",
    "print(\"\\nArray 2: \")\n",
    "print(arr2)\n",
    "\n",
    "# concatination of arr1 & arr2 with axis = 1\n",
    "arr3 = np.concatenate((arr1, arr2), axis=1)\n",
    "print(\"\\nArray 3 with axis 1: \") \n",
    "print(arr3)\n",
    "\n",
    "# concatination of arr1 & arr2 with axis = 0\n",
    "arr3 = np.concatenate((arr1, arr2), axis=0)\n",
    "print(\"\\nArray 3 with axis 0: \") \n",
    "print(arr3)\n"
   ]
  },
  {
   "cell_type": "code",
   "execution_count": 82,
   "metadata": {},
   "outputs": [
    {
     "name": "stdout",
     "output_type": "stream",
     "text": [
      "Array1:  [[[10 20 30]\n",
      "  [40 50 60]\n",
      "  [70 80 90]]]\n",
      "\n",
      "Array2:  [[[210 220 230]\n",
      "  [240 250 260]\n",
      "  [270 280 290]]]\n",
      "\n",
      "Array 3 with axis 1: \n",
      "[[[ 10  20  30 210 220 230]\n",
      "  [ 40  50  60 240 250 260]\n",
      "  [ 70  80  90 270 280 290]]]\n"
     ]
    }
   ],
   "source": [
    "# Arrays Practice Program\n",
    "# 6. Create two 3-D arrays and concatenate them on an axis\n",
    "\n",
    "import numpy as np\n",
    "\n",
    "arr1 = np.array([[[10,20,30], [40,50,60], [70,80,90]]])\n",
    "arr2 = np.array([[[210,220,230], [240,250,260], [270,280,290]]])\n",
    "\n",
    "print(\"Array1: \",arr1)\n",
    "\n",
    "print(\"\\nArray2: \",arr2)\n",
    "\n",
    "# concatination of arr1 & arr2 with axis = 1\n",
    "arr3 = np.concatenate((arr1, arr2), axis=2)\n",
    "print(\"\\nArray 3 with axis 1: \") \n",
    "print(arr3)\n"
   ]
  },
  {
   "cell_type": "code",
   "execution_count": 98,
   "metadata": {},
   "outputs": [
    {
     "name": "stdout",
     "output_type": "stream",
     "text": [
      "Actual Matrix:\n",
      " [[ 11  12  13]\n",
      " [101 102 103]\n",
      " [110 120 130]]\n",
      "\n",
      "Matrix Transpose: \n",
      " [[ 11 101 110]\n",
      " [ 12 102 120]\n",
      " [ 13 103 130]]\n"
     ]
    }
   ],
   "source": [
    "# 2-D Array\n",
    "# 7. Transpose of matrix\n",
    "\n",
    "import numpy as np\n",
    "\n",
    "arr = np.array([[11,12,13], [101,102,103], [110, 120, 130]])\n",
    "\n",
    "print(\"Actual Matrix:\\n\",arr)\n",
    "\n",
    "#Transpose of matrix\n",
    "print(\"\\nMatrix Transpose: \\n\", np.transpose(arr))\n"
   ]
  },
  {
   "cell_type": "code",
   "execution_count": 101,
   "metadata": {},
   "outputs": [
    {
     "name": "stdout",
     "output_type": "stream",
     "text": [
      "Array 1: \n",
      " [[2 4]\n",
      " [6 8]]\n",
      "\n",
      "Array 2: \n",
      " [[ 5  8]\n",
      " [12 18]]\n",
      "\n",
      "Multiplication of arr1 X arr2: \n",
      " [[ 58  88]\n",
      " [126 192]]\n"
     ]
    }
   ],
   "source": [
    "# 2-D Array\n",
    "# 8. Multiplication of Matrix using pre-define numpy method\n",
    "\n",
    "import numpy as np\n",
    "\n",
    "arr1 = np.array([[2,4], [6,8]])\n",
    "arr2 = np.array([[5,8], [12,18]])\n",
    "\n",
    "print(\"Array 1: \\n\", arr1)\n",
    "print(\"\\nArray 2: \\n\", arr2)\n",
    "\n",
    "#Multiplication of arr1 X arr2\n",
    "arr3 = arr1.dot(arr2)\n",
    "print(\"\\nMultiplication of arr1 X arr2: \\n\", arr3)\n"
   ]
  }
 ],
 "metadata": {
  "interpreter": {
   "hash": "9ed1db5f7844330045309647f3cf3e7202c91c30619abdd3edf05f85e0785ea5"
  },
  "kernelspec": {
   "display_name": "Python 3.8.10 64-bit",
   "language": "python",
   "name": "python3"
  },
  "language_info": {
   "codemirror_mode": {
    "name": "ipython",
    "version": 3
   },
   "file_extension": ".py",
   "mimetype": "text/x-python",
   "name": "python",
   "nbconvert_exporter": "python",
   "pygments_lexer": "ipython3",
   "version": "3.8.10"
  },
  "orig_nbformat": 4
 },
 "nbformat": 4,
 "nbformat_minor": 2
}
