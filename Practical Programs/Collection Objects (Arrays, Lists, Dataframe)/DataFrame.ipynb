{
 "cells": [
  {
   "cell_type": "code",
   "execution_count": null,
   "metadata": {},
   "outputs": [],
   "source": [
    "# What is DataFrame??\n",
    "#-> \n",
    " # Pandas DataFrame is two-dimensional size-mutable, potentially heterogeneous tabular data structure with labeled axes (rows and columns).\n",
    " # A Data frame is a two-dimensional data structure, i.e., data is aligned in a tabular fashion in rows and columns. \n",
    " # Pandas DataFrame consists of three principal components, the data, rows, and columns.\n",
    "\n",
    "\n",
    "#Dataframe programs\n",
    "    # 1: Demonstrate a basic Dataframe program\n",
    "    # 2: Create a dataframe with index values as A,B,C..\n",
    "    # 3: Create a datafram and show data of one particular record (row)\n",
    "    # 4: Create a datafram and show data of two records (row)\n"
   ]
  },
  {
   "cell_type": "code",
   "execution_count": 7,
   "metadata": {},
   "outputs": [
    {
     "name": "stdout",
     "output_type": "stream",
     "text": [
      "   Name  Age\n",
      "0   Tom   24\n",
      "1  Kate   20\n",
      "2  Jake   18\n",
      "3  Nick   21\n"
     ]
    }
   ],
   "source": [
    "\n",
    "# 1: Demonstrate a basic Dataframe program\n",
    "\n",
    "import pandas as pd\n",
    "\n",
    "#initializing data of lists\n",
    "data = {\n",
    "        'Name':['Tom', 'Kate', 'Jake', 'Nick'],\n",
    "        'Age':[24, 20, 18, 21]\n",
    "        }\n",
    "\n",
    "#create Datafrom\n",
    "df = pd.DataFrame(data)\n",
    "\n",
    "print(df)\n"
   ]
  },
  {
   "cell_type": "code",
   "execution_count": 8,
   "metadata": {},
   "outputs": [
    {
     "name": "stdout",
     "output_type": "stream",
     "text": [
      "   Name  Age\n",
      "A   Tom   24\n",
      "B  Kate   20\n",
      "C  Jake   18\n",
      "D  Nick   21\n"
     ]
    }
   ],
   "source": [
    "# 2: Create a dataframe with index values as A,B,C..\n",
    "\n",
    "import pandas as pd\n",
    "\n",
    "#initializing data of lists\n",
    "data = {\n",
    "        'Name':['Tom', 'Kate', 'Jake', 'Nick'],\n",
    "        'Age':[24, 20, 18, 21]\n",
    "        }\n",
    "\n",
    "#create Datafrom, with user-define index values\n",
    "df = pd.DataFrame(data, index=(\"A\", \"B\", \"C\", \"D\"))\n",
    "\n",
    "print(df)\n"
   ]
  },
  {
   "cell_type": "code",
   "execution_count": 13,
   "metadata": {},
   "outputs": [
    {
     "name": "stdout",
     "output_type": "stream",
     "text": [
      "Name    Tom\n",
      "Age      24\n",
      "Name: 0, dtype: object\n"
     ]
    }
   ],
   "source": [
    "# 3: Create a datafram and show data of one particular record\n",
    "\n",
    "import pandas as pd\n",
    "\n",
    "#initializing data of lists\n",
    "data = {\n",
    "        'Name':['Tom', 'Kate', 'Jake', 'Nick'],\n",
    "        'Age':[24, 20, 18, 21]\n",
    "        }\n",
    "\n",
    "#create Datafrom, with user-define index values\n",
    "df = pd.DataFrame(data)\n",
    "\n",
    "#Showing the 1st record(row) from DataFrame, using a loc\n",
    "print(df.loc[0])\n"
   ]
  },
  {
   "cell_type": "code",
   "execution_count": 12,
   "metadata": {},
   "outputs": [
    {
     "name": "stdout",
     "output_type": "stream",
     "text": [
      "   Name  Age\n",
      "1  Kate   20\n",
      "2  Jake   18\n"
     ]
    }
   ],
   "source": [
    "# 4: Create a datafram and show data of two records (row)\n",
    "\n",
    "import pandas as pd\n",
    "\n",
    "#initializing data of lists\n",
    "data = {\n",
    "        'Name':['Tom', 'Kate', 'Jake', 'Nick'],\n",
    "        'Age':[24, 20, 18, 21]\n",
    "        }\n",
    "\n",
    "#create Datafrom, with user-define index values\n",
    "df = pd.DataFrame(data)\n",
    "\n",
    "#Showing the 2nd and 3rd record(row) from DataFrame\n",
    "print(df.loc[[1,2]])\n"
   ]
  }
 ],
 "metadata": {
  "interpreter": {
   "hash": "9ed1db5f7844330045309647f3cf3e7202c91c30619abdd3edf05f85e0785ea5"
  },
  "kernelspec": {
   "display_name": "Python 3.8.10 64-bit",
   "language": "python",
   "name": "python3"
  },
  "language_info": {
   "codemirror_mode": {
    "name": "ipython",
    "version": 3
   },
   "file_extension": ".py",
   "mimetype": "text/x-python",
   "name": "python",
   "nbconvert_exporter": "python",
   "pygments_lexer": "ipython3",
   "version": "3.8.10"
  },
  "orig_nbformat": 4
 },
 "nbformat": 4,
 "nbformat_minor": 2
}
