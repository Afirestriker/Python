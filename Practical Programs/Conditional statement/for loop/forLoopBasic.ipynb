{
 "cells": [
  {
   "cell_type": "code",
   "execution_count": 3,
   "metadata": {},
   "outputs": [
    {
     "name": "stdout",
     "output_type": "stream",
     "text": [
      "For loop syntax 1 output: \n",
      "0\n",
      "1\n",
      "2\n",
      "3\n",
      "4\n",
      "For loop syntax 2 output: \n",
      "1\n",
      "2\n",
      "3\n",
      "4\n",
      "5\n",
      "For loop syntax 3 output: \n",
      "1\n",
      "3\n",
      "5\n",
      "7\n",
      "9\n",
      "11\n",
      "13\n",
      "15\n",
      "17\n",
      "19\n",
      "For loop syntax with string as range\n",
      "a\n",
      "b\n",
      "c\n",
      "d\n"
     ]
    }
   ],
   "source": [
    "\n",
    "# For loop Syntax no 1\n",
    "print(\"For loop syntax 1 output: \")\n",
    "for x in range(5):\n",
    "    print(x)\n",
    "\n",
    "\n",
    "# For loop syntax no 2\n",
    "print(\"For loop syntax 2 output: \")\n",
    "for x in range(1, 6):\n",
    "    print(x)\n",
    "\n",
    "# For loop syntax no 3\n",
    "print(\"For loop syntax 3 output: \")\n",
    "for x in range(1, 20, 2):\n",
    "    print(x)\n",
    "\n",
    "# For loop with range in string\n",
    "print(\"For loop syntax with string as range\")\n",
    "for x in (\"abcd\"):\n",
    "    print(x)\n",
    "\n"
   ]
  }
 ],
 "metadata": {
  "interpreter": {
   "hash": "9ed1db5f7844330045309647f3cf3e7202c91c30619abdd3edf05f85e0785ea5"
  },
  "kernelspec": {
   "display_name": "Python 3.8.10 64-bit",
   "language": "python",
   "name": "python3"
  },
  "language_info": {
   "codemirror_mode": {
    "name": "ipython",
    "version": 3
   },
   "file_extension": ".py",
   "mimetype": "text/x-python",
   "name": "python",
   "nbconvert_exporter": "python",
   "pygments_lexer": "ipython3",
   "version": "3.8.10"
  },
  "orig_nbformat": 4
 },
 "nbformat": 4,
 "nbformat_minor": 2
}
