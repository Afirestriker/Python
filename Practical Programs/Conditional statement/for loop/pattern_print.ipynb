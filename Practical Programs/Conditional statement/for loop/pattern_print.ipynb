{
 "cells": [
  {
   "cell_type": "code",
   "execution_count": 11,
   "metadata": {},
   "outputs": [
    {
     "name": "stdout",
     "output_type": "stream",
     "text": [
      "* \n",
      "* * \n",
      "* * * \n",
      "* * * * \n",
      "* * * * * \n"
     ]
    }
   ],
   "source": [
    "\n",
    "# Print pattern\n",
    "#   *\n",
    "#   *  *\n",
    "#   *  *  *\n",
    "#   *  *  *  *\n",
    "#   *  *  *  *  *\n",
    "\n",
    "\n",
    "for r in range(1, 6):\n",
    "    for c in range(1, (r+1)):\n",
    "        print(\"*\", end=\" \")\n",
    "    print()\n"
   ]
  },
  {
   "cell_type": "code",
   "execution_count": 12,
   "metadata": {},
   "outputs": [
    {
     "name": "stdout",
     "output_type": "stream",
     "text": [
      "1 \n",
      "1 2 \n",
      "1 2 3 \n",
      "1 2 3 4 \n",
      "1 2 3 4 5 \n"
     ]
    }
   ],
   "source": [
    "\n",
    "\n",
    "# Print pattern\n",
    "#   1\n",
    "#   1  2    \n",
    "#   1  2  3\n",
    "#   1  2  3  4\n",
    "#   1  2  3  4  5\n",
    "\n",
    "\n",
    "for r in range(1, 6):\n",
    "    for c in range(1, (r+1)):\n",
    "        print(c, end=\" \")\n",
    "    print()\n"
   ]
  },
  {
   "cell_type": "code",
   "execution_count": 13,
   "metadata": {},
   "outputs": [
    {
     "name": "stdout",
     "output_type": "stream",
     "text": [
      "1 \n",
      "2 2 \n",
      "3 3 3 \n",
      "4 4 4 4 \n",
      "5 5 5 5 5 \n"
     ]
    }
   ],
   "source": [
    "\n",
    "\n",
    "\n",
    "# Print pattern\n",
    "#   1\n",
    "#   1  2    \n",
    "#   1  2  3\n",
    "#   1  2  3  4\n",
    "#   1  2  3  4  5\n",
    "\n",
    "\n",
    "for r in range(1, 6):\n",
    "    for c in range(1, (r+1)):\n",
    "        print(r, end=\" \")\n",
    "    print()\n"
   ]
  },
  {
   "cell_type": "code",
   "execution_count": 16,
   "metadata": {},
   "outputs": [
    {
     "name": "stdout",
     "output_type": "stream",
     "text": [
      "1 \n",
      "2 3 \n",
      "4 5 6 \n",
      "7 8 9 10 \n",
      "11 12 13 14 15 \n"
     ]
    }
   ],
   "source": [
    "\n",
    "\n",
    "# Print pattern\n",
    "#   1\n",
    "#   2  3\n",
    "#   4  5  6\n",
    "#   7  8  9  10\n",
    "#  11 12 13  14  15\n",
    "\n",
    "n=1\n",
    "for r in range(1, 6):\n",
    "    for c in range(1, (r+1)):\n",
    "        print(n, end=\" \")\n",
    "        n+=1\n",
    "    print()\n"
   ]
  }
 ],
 "metadata": {
  "interpreter": {
   "hash": "9ed1db5f7844330045309647f3cf3e7202c91c30619abdd3edf05f85e0785ea5"
  },
  "kernelspec": {
   "display_name": "Python 3.8.10 64-bit",
   "language": "python",
   "name": "python3"
  },
  "language_info": {
   "codemirror_mode": {
    "name": "ipython",
    "version": 3
   },
   "file_extension": ".py",
   "mimetype": "text/x-python",
   "name": "python",
   "nbconvert_exporter": "python",
   "pygments_lexer": "ipython3",
   "version": "3.8.10"
  },
  "orig_nbformat": 4
 },
 "nbformat": 4,
 "nbformat_minor": 2
}
