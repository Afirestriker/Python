{
 "cells": [
  {
   "cell_type": "code",
   "execution_count": null,
   "metadata": {},
   "outputs": [],
   "source": [
    "# Assert keyword in python\n",
    "    # ⦁ Assert is a keyword in python\n",
    "    # ⦁ In python the assert statement is used to continue the excution if the given condition evaluates to True. If the assert condition evaluates to False, then it raises the AssertionError exception with the specified error message.\n",
    "    # ⦁\tAssert is used mainly for validations and it is used for logic.\n",
    "    # ⦁\tWhen the if condition is False, the code proceeds with the intended behavior we code for that scenario. When an \"Assert\" statement is False, the execution stops because it found something that makes our test fail.\n",
    "    # ⦁\tAssert is similar to if, where if-else is used for logic, assert is used for only validation.\n",
    "\n",
    "# Assert Syntax:\n",
    "#               assert(condition), \"statement-if-assert-condition-is-False\"\n",
    "#               \"Statement-if-assert-condition-is-True\"\n",
    "\n",
    "# Assert Programs\n",
    "# 1. Basic Assert program\n",
    "# 2. Assert program using function, and try, except block\n",
    "# 3. User Assert for division\n",
    "# 4. Assert program where the program stop even if one element from the list does not match the given condition.\n"
   ]
  },
  {
   "cell_type": "code",
   "execution_count": 13,
   "metadata": {},
   "outputs": [
    {
     "name": "stdout",
     "output_type": "stream",
     "text": [
      "Posiive\n"
     ]
    }
   ],
   "source": [
    "# 1. Basic Assert program\n",
    "\n",
    "#Accept a number from user\n",
    "x = int(input(\"Enter Number: \"))\n",
    "\n",
    "# using Assert to check if number is greater than 0 or not,\n",
    "    # if False, then Exception with raise and the statement \"Lesser than or equal to 0\" will execute.\n",
    "    # if True, then no exception, and code will continue to next line.\n",
    "assert(x>0), \"Lesser than or equal to 0\"\n",
    "print(\"Posiive\")\n"
   ]
  },
  {
   "cell_type": "code",
   "execution_count": 15,
   "metadata": {},
   "outputs": [
    {
     "name": "stdout",
     "output_type": "stream",
     "text": [
      "Assertiong Error occur\n"
     ]
    }
   ],
   "source": [
    "# 2. Assert program using function, and try, except block\n",
    "\n",
    "\n",
    "#Funcion which return the square of only positie number greater than 0\n",
    "def sqPositive(num):\n",
    "    assert(num>0), \"Number must be greater than 0\"\n",
    "    return num*num\n",
    "\n",
    "try:\n",
    "    n = int(input(\"Enter Number: \"))\n",
    "    result = sqPositive(n)\n",
    "    print(f\"Square of {n} is: {result}\")\n",
    "except AssertionError:\n",
    "    print(\"Assertiong Error occur\")\n"
   ]
  },
  {
   "cell_type": "code",
   "execution_count": 18,
   "metadata": {},
   "outputs": [
    {
     "name": "stdout",
     "output_type": "stream",
     "text": [
      "Division result: 0.5\n"
     ]
    }
   ],
   "source": [
    "# 3. User Assert for division\n",
    "\n",
    "num1 = int(input(\"Enter Number 1: \"))\n",
    "num2 = int(input(\"Enter Number 2:\" ))\n",
    "\n",
    "assert (num2!=0), \"Division by 0 error\"\n",
    "print(f\"Division result: {num1/num2}\")\n"
   ]
  },
  {
   "cell_type": "code",
   "execution_count": 26,
   "metadata": {},
   "outputs": [
    {
     "name": "stdout",
     "output_type": "stream",
     "text": [
      "20 you are allowed to vote\n",
      "18 you are allowed to vote\n"
     ]
    },
    {
     "ename": "AssertionError",
     "evalue": "You are not allowed to vote",
     "output_type": "error",
     "traceback": [
      "\u001b[1;31m---------------------------------------------------------------------------\u001b[0m",
      "\u001b[1;31mAssertionError\u001b[0m                            Traceback (most recent call last)",
      "\u001b[1;32mC:\\Temp/ipykernel_9244/2804267802.py\u001b[0m in \u001b[0;36m<module>\u001b[1;34m\u001b[0m\n\u001b[0;32m      4\u001b[0m \u001b[1;33m\u001b[0m\u001b[0m\n\u001b[0;32m      5\u001b[0m \u001b[1;32mfor\u001b[0m \u001b[0mi\u001b[0m \u001b[1;32min\u001b[0m \u001b[0mage\u001b[0m\u001b[1;33m:\u001b[0m\u001b[1;33m\u001b[0m\u001b[1;33m\u001b[0m\u001b[0m\n\u001b[1;32m----> 6\u001b[1;33m     \u001b[1;32massert\u001b[0m \u001b[1;33m(\u001b[0m\u001b[0mi\u001b[0m\u001b[1;33m>=\u001b[0m\u001b[1;36m18\u001b[0m\u001b[1;33m)\u001b[0m\u001b[1;33m,\u001b[0m \u001b[1;34m\"You are not allowed to vote\"\u001b[0m\u001b[1;33m\u001b[0m\u001b[1;33m\u001b[0m\u001b[0m\n\u001b[0m\u001b[0;32m      7\u001b[0m     \u001b[0mprint\u001b[0m\u001b[1;33m(\u001b[0m\u001b[1;34mf\"{i} you are allowed to vote\"\u001b[0m\u001b[1;33m)\u001b[0m\u001b[1;33m\u001b[0m\u001b[1;33m\u001b[0m\u001b[0m\n",
      "\u001b[1;31mAssertionError\u001b[0m: You are not allowed to vote"
     ]
    }
   ],
   "source": [
    "# 4. Assert program where the program stop even if one element from the list does not match the given condition.\n",
    "\n",
    "age = [20, 18, 15, 16, 19]\n",
    "\n",
    "for i in age:\n",
    "    assert (i>=18), \"You are not allowed to vote\"\n",
    "    print(f\"{i} you are allowed to vote\")\n"
   ]
  }
 ],
 "metadata": {
  "interpreter": {
   "hash": "9ed1db5f7844330045309647f3cf3e7202c91c30619abdd3edf05f85e0785ea5"
  },
  "kernelspec": {
   "display_name": "Python 3.8.10 64-bit",
   "language": "python",
   "name": "python3"
  },
  "language_info": {
   "codemirror_mode": {
    "name": "ipython",
    "version": 3
   },
   "file_extension": ".py",
   "mimetype": "text/x-python",
   "name": "python",
   "nbconvert_exporter": "python",
   "pygments_lexer": "ipython3",
   "version": "3.8.10"
  },
  "orig_nbformat": 4
 },
 "nbformat": 4,
 "nbformat_minor": 2
}
