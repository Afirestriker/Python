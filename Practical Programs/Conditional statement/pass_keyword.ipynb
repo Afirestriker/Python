{
 "cells": [
  {
   "cell_type": "code",
   "execution_count": 4,
   "metadata": {},
   "outputs": [],
   "source": [
    "\n",
    "# Pass statement in Python\n",
    "a = 30\n",
    "b = 20\n",
    "if(a>b):\n",
    "    # pass will continue the iteration to next\n",
    "\tpass\n",
    "else:\n",
    "\tprint(\"a<b\")\n",
    "\n",
    "#OUTPUT: Here it print nothing because if condition is true and pass keyword is used, which does nothing, but just conitnue the iteration to next.\n",
    "\n"
   ]
  }
 ],
 "metadata": {
  "interpreter": {
   "hash": "9ed1db5f7844330045309647f3cf3e7202c91c30619abdd3edf05f85e0785ea5"
  },
  "kernelspec": {
   "display_name": "Python 3.8.10 64-bit",
   "language": "python",
   "name": "python3"
  },
  "language_info": {
   "codemirror_mode": {
    "name": "ipython",
    "version": 3
   },
   "file_extension": ".py",
   "mimetype": "text/x-python",
   "name": "python",
   "nbconvert_exporter": "python",
   "pygments_lexer": "ipython3",
   "version": "3.8.10"
  },
  "orig_nbformat": 4
 },
 "nbformat": 4,
 "nbformat_minor": 2
}
