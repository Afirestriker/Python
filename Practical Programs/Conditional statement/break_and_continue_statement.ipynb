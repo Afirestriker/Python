{
 "cells": [
  {
   "cell_type": "code",
   "execution_count": 1,
   "metadata": {},
   "outputs": [
    {
     "name": "stdout",
     "output_type": "stream",
     "text": [
      "Break statement use: \n",
      "1\n",
      "2\n",
      "3\n",
      "Continue statement uses: \n",
      "1\n",
      "2\n",
      "3\n",
      "5\n",
      "6\n",
      "7\n",
      "8\n",
      "9\n",
      "10\n"
     ]
    }
   ],
   "source": [
    "\n",
    "# Break and continue statement uses\n",
    "\n",
    "print(\"Break statement use: \")\n",
    "n=1;\n",
    "while(n<=10):\n",
    "    if(n==4):\n",
    "        break\n",
    "    print(n)\n",
    "    n+=1\n",
    "\n",
    "print(\"Continue statement uses: \")\n",
    "n=1\n",
    "while(n<=10):\n",
    "    if(n==4):\n",
    "        n+=1\n",
    "        continue\n",
    "    print(n)\n",
    "    n+=1\n"
   ]
  }
 ],
 "metadata": {
  "interpreter": {
   "hash": "9ed1db5f7844330045309647f3cf3e7202c91c30619abdd3edf05f85e0785ea5"
  },
  "kernelspec": {
   "display_name": "Python 3.8.10 64-bit",
   "language": "python",
   "name": "python3"
  },
  "language_info": {
   "codemirror_mode": {
    "name": "ipython",
    "version": 3
   },
   "file_extension": ".py",
   "mimetype": "text/x-python",
   "name": "python",
   "nbconvert_exporter": "python",
   "pygments_lexer": "ipython3",
   "version": "3.8.10"
  },
  "orig_nbformat": 4
 },
 "nbformat": 4,
 "nbformat_minor": 2
}
