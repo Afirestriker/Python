{
 "cells": [
  {
   "cell_type": "code",
   "execution_count": null,
   "metadata": {},
   "outputs": [],
   "source": [
    "#Excel File Handling using pandas Library\n",
    "\n",
    "#Note: By Default the pd.read_excel() read first sheet only\n",
    "\n",
    "#Program 1: Read Excel File using Pandas library\n",
    "#Program 2: Display only 2nd record from the excel file\n",
    "#Program 3: Display 2nd to 4th record from excel file\n",
    "#Program 4: Display 2nd and 4th record from excel file\n",
    "#Program 5: Display 2nd, 3rd and 4th record for column 'Ename' and 'Esalary' from excel file\n",
    "#Program 6: Dispaly multiple sheets from excel file\n"
   ]
  },
  {
   "cell_type": "code",
   "execution_count": 9,
   "metadata": {},
   "outputs": [
    {
     "data": {
      "text/html": [
       "<div>\n",
       "<style scoped>\n",
       "    .dataframe tbody tr th:only-of-type {\n",
       "        vertical-align: middle;\n",
       "    }\n",
       "\n",
       "    .dataframe tbody tr th {\n",
       "        vertical-align: top;\n",
       "    }\n",
       "\n",
       "    .dataframe thead th {\n",
       "        text-align: right;\n",
       "    }\n",
       "</style>\n",
       "<table border=\"1\" class=\"dataframe\">\n",
       "  <thead>\n",
       "    <tr style=\"text-align: right;\">\n",
       "      <th></th>\n",
       "      <th>Eno</th>\n",
       "      <th>Ename</th>\n",
       "      <th>Edesig</th>\n",
       "      <th>Esalary</th>\n",
       "    </tr>\n",
       "  </thead>\n",
       "  <tbody>\n",
       "    <tr>\n",
       "      <th>0</th>\n",
       "      <td>1</td>\n",
       "      <td>Ename1</td>\n",
       "      <td>Edesig1</td>\n",
       "      <td>10000</td>\n",
       "    </tr>\n",
       "    <tr>\n",
       "      <th>1</th>\n",
       "      <td>2</td>\n",
       "      <td>Ename2</td>\n",
       "      <td>Edesig2</td>\n",
       "      <td>20000</td>\n",
       "    </tr>\n",
       "    <tr>\n",
       "      <th>2</th>\n",
       "      <td>3</td>\n",
       "      <td>Ename3</td>\n",
       "      <td>Edesig3</td>\n",
       "      <td>30000</td>\n",
       "    </tr>\n",
       "    <tr>\n",
       "      <th>3</th>\n",
       "      <td>4</td>\n",
       "      <td>Ename4</td>\n",
       "      <td>Edesig4</td>\n",
       "      <td>40000</td>\n",
       "    </tr>\n",
       "    <tr>\n",
       "      <th>4</th>\n",
       "      <td>5</td>\n",
       "      <td>Ename5</td>\n",
       "      <td>Edesig5</td>\n",
       "      <td>50000</td>\n",
       "    </tr>\n",
       "    <tr>\n",
       "      <th>5</th>\n",
       "      <td>6</td>\n",
       "      <td>Ename6</td>\n",
       "      <td>Edesig6</td>\n",
       "      <td>60000</td>\n",
       "    </tr>\n",
       "  </tbody>\n",
       "</table>\n",
       "</div>"
      ],
      "text/plain": [
       "   Eno   Ename   Edesig  Esalary\n",
       "0    1  Ename1  Edesig1    10000\n",
       "1    2  Ename2  Edesig2    20000\n",
       "2    3  Ename3  Edesig3    30000\n",
       "3    4  Ename4  Edesig4    40000\n",
       "4    5  Ename5  Edesig5    50000\n",
       "5    6  Ename6  Edesig6    60000"
      ]
     },
     "execution_count": 9,
     "metadata": {},
     "output_type": "execute_result"
    }
   ],
   "source": [
    "#Program 1: Read Excel File using Pandas library\n",
    "\n",
    "#import pandas library\n",
    "import pandas as pd\n",
    "\n",
    "#Read data from excel file and store in variable\n",
    "    #Note: By default it read the first sheet only, not the entire worksheet see program:6\n",
    "\n",
    "data = pd.read_excel(\"emp.xlsx\")\n",
    "\n",
    "data\n",
    "\n",
    "# OR, Display record in range e.g. index 0 TO 2\n",
    "# data[0:3] \n"
   ]
  },
  {
   "cell_type": "code",
   "execution_count": 2,
   "metadata": {},
   "outputs": [
    {
     "data": {
      "text/plain": [
       "Eno              2\n",
       "Ename       Ename2\n",
       "Edesig     Edesig2\n",
       "Esalary      20000\n",
       "Name: 1, dtype: object"
      ]
     },
     "execution_count": 2,
     "metadata": {},
     "output_type": "execute_result"
    }
   ],
   "source": [
    "# Program 2: Display only 2nd record from the excel file\n",
    "\n",
    "#import statement\n",
    "import pandas as pd\n",
    "\n",
    "#Read excel file\n",
    "fexcel = pd.read_excel(\"emp.xlsx\")\n",
    "\n",
    "# Display the record, (Note: The same statement can be written using print())\n",
    "fexcel.loc[1]\n"
   ]
  },
  {
   "cell_type": "code",
   "execution_count": 11,
   "metadata": {},
   "outputs": [
    {
     "data": {
      "text/html": [
       "<div>\n",
       "<style scoped>\n",
       "    .dataframe tbody tr th:only-of-type {\n",
       "        vertical-align: middle;\n",
       "    }\n",
       "\n",
       "    .dataframe tbody tr th {\n",
       "        vertical-align: top;\n",
       "    }\n",
       "\n",
       "    .dataframe thead th {\n",
       "        text-align: right;\n",
       "    }\n",
       "</style>\n",
       "<table border=\"1\" class=\"dataframe\">\n",
       "  <thead>\n",
       "    <tr style=\"text-align: right;\">\n",
       "      <th></th>\n",
       "      <th>Eno</th>\n",
       "      <th>Ename</th>\n",
       "      <th>Edesig</th>\n",
       "      <th>Esalary</th>\n",
       "    </tr>\n",
       "  </thead>\n",
       "  <tbody>\n",
       "    <tr>\n",
       "      <th>1</th>\n",
       "      <td>2</td>\n",
       "      <td>Ename2</td>\n",
       "      <td>Edesig2</td>\n",
       "      <td>20000</td>\n",
       "    </tr>\n",
       "    <tr>\n",
       "      <th>2</th>\n",
       "      <td>3</td>\n",
       "      <td>Ename3</td>\n",
       "      <td>Edesig3</td>\n",
       "      <td>30000</td>\n",
       "    </tr>\n",
       "    <tr>\n",
       "      <th>3</th>\n",
       "      <td>4</td>\n",
       "      <td>Ename4</td>\n",
       "      <td>Edesig4</td>\n",
       "      <td>40000</td>\n",
       "    </tr>\n",
       "  </tbody>\n",
       "</table>\n",
       "</div>"
      ],
      "text/plain": [
       "   Eno   Ename   Edesig  Esalary\n",
       "1    2  Ename2  Edesig2    20000\n",
       "2    3  Ename3  Edesig3    30000\n",
       "3    4  Ename4  Edesig4    40000"
      ]
     },
     "execution_count": 11,
     "metadata": {},
     "output_type": "execute_result"
    }
   ],
   "source": [
    "#Program 3: Display 2nd to 4th record from excel file\n",
    "\n",
    "#import\n",
    "import pandas as pd\n",
    "\n",
    "#Read excel file\n",
    "fexc = pd.read_excel(\"emp.xlsx\")\n",
    "\n",
    "#display 2nd to 4th row (Note: Index of first row is '0', heading is not counted)\n",
    "fexc.loc[1:3]\n",
    "\n",
    "#OR, \n",
    "# fexc[1:4]\n"
   ]
  },
  {
   "cell_type": "code",
   "execution_count": 34,
   "metadata": {},
   "outputs": [
    {
     "data": {
      "text/html": [
       "<div>\n",
       "<style scoped>\n",
       "    .dataframe tbody tr th:only-of-type {\n",
       "        vertical-align: middle;\n",
       "    }\n",
       "\n",
       "    .dataframe tbody tr th {\n",
       "        vertical-align: top;\n",
       "    }\n",
       "\n",
       "    .dataframe thead th {\n",
       "        text-align: right;\n",
       "    }\n",
       "</style>\n",
       "<table border=\"1\" class=\"dataframe\">\n",
       "  <thead>\n",
       "    <tr style=\"text-align: right;\">\n",
       "      <th></th>\n",
       "      <th>Eno</th>\n",
       "      <th>Ename</th>\n",
       "      <th>Edesig</th>\n",
       "      <th>Esalary</th>\n",
       "    </tr>\n",
       "  </thead>\n",
       "  <tbody>\n",
       "    <tr>\n",
       "      <th>1</th>\n",
       "      <td>2</td>\n",
       "      <td>Ename2</td>\n",
       "      <td>Edesig2</td>\n",
       "      <td>20000</td>\n",
       "    </tr>\n",
       "    <tr>\n",
       "      <th>3</th>\n",
       "      <td>4</td>\n",
       "      <td>Ename4</td>\n",
       "      <td>Edesig4</td>\n",
       "      <td>40000</td>\n",
       "    </tr>\n",
       "  </tbody>\n",
       "</table>\n",
       "</div>"
      ],
      "text/plain": [
       "   Eno   Ename   Edesig  Esalary\n",
       "1    2  Ename2  Edesig2    20000\n",
       "3    4  Ename4  Edesig4    40000"
      ]
     },
     "execution_count": 34,
     "metadata": {},
     "output_type": "execute_result"
    }
   ],
   "source": [
    "#Program 4: Display 2nd and 4th record from excel file\n",
    "\n",
    "#import\n",
    "import pandas as pd\n",
    "\n",
    "#Read excel file\n",
    "fexc = pd.read_excel(\"emp.xlsx\")\n",
    "\n",
    "#display 2nd and 4th row (Note: Index of first row is '0', heading is not counted)\n",
    "# 2nd record index = 1\n",
    "# 4th record index = 3\n",
    "fexc.loc[[1,3]]\n"
   ]
  },
  {
   "cell_type": "code",
   "execution_count": 23,
   "metadata": {},
   "outputs": [
    {
     "data": {
      "text/html": [
       "<div>\n",
       "<style scoped>\n",
       "    .dataframe tbody tr th:only-of-type {\n",
       "        vertical-align: middle;\n",
       "    }\n",
       "\n",
       "    .dataframe tbody tr th {\n",
       "        vertical-align: top;\n",
       "    }\n",
       "\n",
       "    .dataframe thead th {\n",
       "        text-align: right;\n",
       "    }\n",
       "</style>\n",
       "<table border=\"1\" class=\"dataframe\">\n",
       "  <thead>\n",
       "    <tr style=\"text-align: right;\">\n",
       "      <th></th>\n",
       "      <th>Ename</th>\n",
       "      <th>Esalary</th>\n",
       "    </tr>\n",
       "  </thead>\n",
       "  <tbody>\n",
       "    <tr>\n",
       "      <th>1</th>\n",
       "      <td>Ename2</td>\n",
       "      <td>20000</td>\n",
       "    </tr>\n",
       "    <tr>\n",
       "      <th>2</th>\n",
       "      <td>Ename3</td>\n",
       "      <td>30000</td>\n",
       "    </tr>\n",
       "    <tr>\n",
       "      <th>3</th>\n",
       "      <td>Ename4</td>\n",
       "      <td>40000</td>\n",
       "    </tr>\n",
       "  </tbody>\n",
       "</table>\n",
       "</div>"
      ],
      "text/plain": [
       "    Ename  Esalary\n",
       "1  Ename2    20000\n",
       "2  Ename3    30000\n",
       "3  Ename4    40000"
      ]
     },
     "execution_count": 23,
     "metadata": {},
     "output_type": "execute_result"
    }
   ],
   "source": [
    "#Program 5: Display 2nd, 3rd and 4th record for column 'Ename' and 'Esalary' from excel file\n",
    "\n",
    "#import\n",
    "import pandas as pd\n",
    "\n",
    "#Read excel file\n",
    "fexc = pd.read_excel(\"emp.xlsx\")\n",
    "\n",
    "#Display 2nd, 3rd, 4th record for col 'Ename' and 'Esalary'\n",
    "fexc.loc[[1,2,3], ['Ename', 'Esalary']]   # Note: can use double or single quotes\n"
   ]
  },
  {
   "cell_type": "code",
   "execution_count": 36,
   "metadata": {},
   "outputs": [
    {
     "data": {
      "text/html": [
       "<div>\n",
       "<style scoped>\n",
       "    .dataframe tbody tr th:only-of-type {\n",
       "        vertical-align: middle;\n",
       "    }\n",
       "\n",
       "    .dataframe tbody tr th {\n",
       "        vertical-align: top;\n",
       "    }\n",
       "\n",
       "    .dataframe thead th {\n",
       "        text-align: right;\n",
       "    }\n",
       "</style>\n",
       "<table border=\"1\" class=\"dataframe\">\n",
       "  <thead>\n",
       "    <tr style=\"text-align: right;\">\n",
       "      <th></th>\n",
       "      <th>Ename</th>\n",
       "      <th>Esalary</th>\n",
       "    </tr>\n",
       "  </thead>\n",
       "  <tbody>\n",
       "    <tr>\n",
       "      <th>1</th>\n",
       "      <td>Ename2</td>\n",
       "      <td>20000</td>\n",
       "    </tr>\n",
       "    <tr>\n",
       "      <th>2</th>\n",
       "      <td>Ename3</td>\n",
       "      <td>30000</td>\n",
       "    </tr>\n",
       "    <tr>\n",
       "      <th>3</th>\n",
       "      <td>Ename4</td>\n",
       "      <td>40000</td>\n",
       "    </tr>\n",
       "  </tbody>\n",
       "</table>\n",
       "</div>"
      ],
      "text/plain": [
       "    Ename  Esalary\n",
       "1  Ename2    20000\n",
       "2  Ename3    30000\n",
       "3  Ename4    40000"
      ]
     },
     "execution_count": 36,
     "metadata": {},
     "output_type": "execute_result"
    }
   ],
   "source": [
    "#Program 5: Display 2nd, 3rd and 4th record for column 'Ename' and 'Esalary' from excel file\n",
    "\n",
    "#import\n",
    "import pandas as pd\n",
    "\n",
    "#Read excel file\n",
    "fexc = pd.read_excel(\"emp.xlsx\")\n",
    "\n",
    "#Display 2nd, 3rd, 4th record for col 'Ename' and 'Esalary'\n",
    "fexc.loc[[1,2,3], ['Ename', 'Esalary']]   # Note: can use double or single quotes"
   ]
  },
  {
   "cell_type": "code",
   "execution_count": 33,
   "metadata": {},
   "outputs": [
    {
     "name": "stdout",
     "output_type": "stream",
     "text": [
      "*****EMPLOYEE DETAILS*****\n",
      "   Eno   Ename   Edesig  Esalary\n",
      "0    1  Ename1  Edesig1    10000\n",
      "1    2  Ename2  Edesig2    20000\n",
      "2    3  Ename3  Edesig3    30000\n",
      "3    4  Ename4  Edesig4    40000\n",
      "4    5  Ename5  Edesig5    50000\n",
      "5    6  Ename6  Edesig6    60000\n",
      " \n",
      "******EMPLOYEE VEHICAL DETAILS******\n",
      "   Eno EVehical_type Evehical_no\n",
      "0    1          Bike        V101\n",
      "1    2         Cycle        V102\n",
      "2    3           Car        V103\n",
      "3    4         Cycle        V104\n",
      "4    5           Gov        V105\n",
      "5    6           Car        V106\n"
     ]
    }
   ],
   "source": [
    "#Program 6: Dispaly multiple sheets from excel file\n",
    "\n",
    "#Method 1\n",
    "\n",
    "#import\n",
    "import pandas as pd\n",
    "\n",
    "#Read excel file sheets\n",
    "with pd.ExcelFile(\"emp.xlsx\") as xls:\n",
    "    sheet1 = pd.read_excel(xls, 'Emp_Details')\n",
    "    sheet2 = pd.read_excel(xls, 'Emp_Vehical_Details')\n",
    "\n",
    "print(\"*****EMPLOYEE DETAILS*****\")\n",
    "#Display entire sheet1\n",
    "print(sheet1)\n",
    "\n",
    "# Show sheet 1 first 5 records \n",
    "    # print(sheet1[0:5]) \n",
    "\n",
    "#show sheet 1 specific column\n",
    "    # print(sheet1['Ename'])\n",
    "\n",
    "print(\" \")\n",
    "\n",
    "print(\"******EMPLOYEE VEHICAL DETAILS******\")\n",
    "#Display entire sheet2\n",
    "print(sheet2)\n"
   ]
  },
  {
   "cell_type": "code",
   "execution_count": 21,
   "metadata": {},
   "outputs": [
    {
     "data": {
      "text/plain": [
       "{'Emp_Details':    Eno   Ename   Edesig  Esalary\n",
       " 0    1  Ename1  Edesig1    10000\n",
       " 1    2  Ename2  Edesig2    20000\n",
       " 2    3  Ename3  Edesig3    30000\n",
       " 3    4  Ename4  Edesig4    40000\n",
       " 4    5  Ename5  Edesig5    50000\n",
       " 5    6  Ename6  Edesig6    60000,\n",
       " 'Emp_Vehical_Details':    Eno EVehical_type Evehical_no\n",
       " 0    1          Bike        V101\n",
       " 1    2         Cycle        V102\n",
       " 2    3           Car        V103\n",
       " 3    4         Cycle        V104\n",
       " 4    5           Gov        V105\n",
       " 5    6           Car        V106}"
      ]
     },
     "execution_count": 21,
     "metadata": {},
     "output_type": "execute_result"
    }
   ],
   "source": [
    "#Program 6: Dispaly multiple sheets from excel file\n",
    "\n",
    "#Method 2\n",
    "\n",
    "#import\n",
    "import pandas as pd\n",
    "\n",
    "#Read excel file sheets\n",
    "sheet1 = pd.read_excel(\"emp.xlsx\", ['Emp_Details', 'Emp_Vehical_Details'])\n",
    "\n",
    "sheet1\n"
   ]
  }
 ],
 "metadata": {
  "interpreter": {
   "hash": "9ed1db5f7844330045309647f3cf3e7202c91c30619abdd3edf05f85e0785ea5"
  },
  "kernelspec": {
   "display_name": "Python 3.8.10 64-bit",
   "language": "python",
   "name": "python3"
  },
  "language_info": {
   "codemirror_mode": {
    "name": "ipython",
    "version": 3
   },
   "file_extension": ".py",
   "mimetype": "text/x-python",
   "name": "python",
   "nbconvert_exporter": "python",
   "pygments_lexer": "ipython3",
   "version": "3.8.10"
  },
  "orig_nbformat": 4
 },
 "nbformat": 4,
 "nbformat_minor": 2
}
