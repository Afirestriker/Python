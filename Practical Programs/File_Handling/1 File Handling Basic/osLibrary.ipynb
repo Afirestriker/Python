{
 "cells": [
  {
   "cell_type": "code",
   "execution_count": 1,
   "metadata": {},
   "outputs": [],
   "source": [
    "\n",
    "# The OS module in Python provides functions for creating and removing a directory (folder), \n",
    "# fetching its contents, changing and identifying the current directory, etc. \n",
    "# You first need to import the os module to interact with the underlying operating system.\n",
    "\n",
    "import os\n",
    "\n",
    "os.remove(\"file2.txt\")\n"
   ]
  },
  {
   "cell_type": "code",
   "execution_count": 6,
   "metadata": {},
   "outputs": [
    {
     "name": "stdout",
     "output_type": "stream",
     "text": [
      "file2.txt  Removed\n"
     ]
    }
   ],
   "source": [
    "# Delete a file it it exist in the given path\n",
    "\n",
    "import os\n",
    "\n",
    "fileName = input(\"Enter filename: \")\n",
    "\n",
    "if(os.path.exists(fileName)):\n",
    "    os.remove(fileName)\n",
    "    print(fileName, \" Removed\")\n",
    "else:\n",
    "    print(fileName, \" does not exist\")\n"
   ]
  },
  {
   "cell_type": "code",
   "execution_count": 9,
   "metadata": {},
   "outputs": [],
   "source": [
    "# Remove a empty directory using OS module\n",
    "# Note: You can only remove empty folders.\n",
    "import os\n",
    "\n",
    "os.rmdir(\"temp\")"
   ]
  }
 ],
 "metadata": {
  "interpreter": {
   "hash": "9ed1db5f7844330045309647f3cf3e7202c91c30619abdd3edf05f85e0785ea5"
  },
  "kernelspec": {
   "display_name": "Python 3.8.10 64-bit",
   "language": "python",
   "name": "python3"
  },
  "language_info": {
   "codemirror_mode": {
    "name": "ipython",
    "version": 3
   },
   "file_extension": ".py",
   "mimetype": "text/x-python",
   "name": "python",
   "nbconvert_exporter": "python",
   "pygments_lexer": "ipython3",
   "version": "3.8.10"
  },
  "orig_nbformat": 4
 },
 "nbformat": 4,
 "nbformat_minor": 2
}
