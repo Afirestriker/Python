{
 "cells": [
  {
   "cell_type": "code",
   "execution_count": 16,
   "metadata": {},
   "outputs": [
    {
     "name": "stdout",
     "output_type": "stream",
     "text": [
      "Hey Hii\n",
      "\n",
      "Hello\n",
      "\n",
      "Welcome\n",
      "\n",
      "Enjoy Python\n",
      "\n",
      "Python is easy\n"
     ]
    }
   ],
   "source": [
    "# 1.\tDisplay all the data of the file using for loop\n",
    "\n",
    "f = open(\"file1.txt\")\n",
    "\n",
    "for x in f:\n",
    "    print(x)\n",
    "\n",
    "f.close()"
   ]
  },
  {
   "cell_type": "code",
   "execution_count": 17,
   "metadata": {},
   "outputs": [
    {
     "name": "stdout",
     "output_type": "stream",
     "text": [
      "Total line count:  5\n"
     ]
    }
   ],
   "source": [
    "# 2.\tDisplay total number of lines of the given file\n",
    "f = open(\"file1.txt\")\n",
    "\n",
    "count = 0\n",
    "\n",
    "for x in f:\n",
    "    count+=1\n",
    "\n",
    "print(\"Total line count: \", count)\n",
    "\n",
    "f.close()"
   ]
  },
  {
   "cell_type": "code",
   "execution_count": 43,
   "metadata": {},
   "outputs": [
    {
     "ename": "TypeError",
     "evalue": "'list' object is not callable",
     "output_type": "error",
     "traceback": [
      "\u001b[1;31m---------------------------------------------------------------------------\u001b[0m",
      "\u001b[1;31mTypeError\u001b[0m                                 Traceback (most recent call last)",
      "\u001b[1;32mC:\\Temp/ipykernel_6604/287521070.py\u001b[0m in \u001b[0;36m<module>\u001b[1;34m\u001b[0m\n\u001b[0;32m      4\u001b[0m \u001b[0mwords\u001b[0m \u001b[1;33m=\u001b[0m \u001b[0mdata\u001b[0m\u001b[1;33m.\u001b[0m\u001b[0msplit\u001b[0m\u001b[1;33m(\u001b[0m\u001b[1;33m)\u001b[0m\u001b[1;33m\u001b[0m\u001b[1;33m\u001b[0m\u001b[0m\n\u001b[0;32m      5\u001b[0m \u001b[1;33m\u001b[0m\u001b[0m\n\u001b[1;32m----> 6\u001b[1;33m \u001b[0mprint\u001b[0m\u001b[1;33m(\u001b[0m\u001b[1;34m\"Total words: \"\u001b[0m\u001b[1;33m,\u001b[0m \u001b[0mlen\u001b[0m\u001b[1;33m(\u001b[0m\u001b[0mwords\u001b[0m\u001b[1;33m)\u001b[0m\u001b[1;33m)\u001b[0m\u001b[1;33m\u001b[0m\u001b[1;33m\u001b[0m\u001b[0m\n\u001b[0m",
      "\u001b[1;31mTypeError\u001b[0m: 'list' object is not callable"
     ]
    }
   ],
   "source": [
    "#3.\tDisplay total number of words in the given file\n",
    "file = open(\"file1.txt\", \"rt\")\n",
    "data = file.read()\n",
    "words = data.split()\n",
    "\n",
    "print(\"Total words: \", len(words))"
   ]
  },
  {
   "cell_type": "code",
   "execution_count": 20,
   "metadata": {},
   "outputs": [
    {
     "name": "stdout",
     "output_type": "stream",
     "text": [
      "Hey Hii\n",
      "\n",
      "Hey Hello\n",
      "\n",
      "Hey Python is easy\n"
     ]
    }
   ],
   "source": [
    "# 4.\tAccept a string and display only those lines which start with the given string\n",
    "\n",
    "str = input(\"Enter String: \")\n",
    "\n",
    "f = open(\"file1.txt\")\n",
    "\n",
    "for x in f:\n",
    "    if(x.startswith(str)):\n",
    "        print(x)\n",
    "\n",
    "f.close()"
   ]
  },
  {
   "cell_type": "code",
   "execution_count": 30,
   "metadata": {},
   "outputs": [
    {
     "name": "stdout",
     "output_type": "stream",
     "text": [
      "Enjoy Python\n",
      "\n",
      "Hey Python is easy\n"
     ]
    }
   ],
   "source": [
    "# 5.\tAccept a string and display only those lines which contain given string\n",
    "\n",
    "str = input(\"enter String: \")\n",
    "f= open(\"file1.txt\")\n",
    "for x in f:\n",
    "    if(x.find(str)> -1):\n",
    "        print(x)\n"
   ]
  },
  {
   "cell_type": "code",
   "execution_count": 34,
   "metadata": {},
   "outputs": [
    {
     "name": "stdout",
     "output_type": "stream",
     "text": [
      "Number of occurances:  2\n"
     ]
    }
   ],
   "source": [
    "# 6.\tAccept a string and display occurrences of this string in the file\n",
    "\n",
    "f = open(\"file1.txt\")\n",
    "\n",
    "str = input(\"Enter String: \")\n",
    "\n",
    "data = f.read()\n",
    "\n",
    "print(\"Number of occurances: \", data.count(str))\n",
    "\n"
   ]
  },
  {
   "cell_type": "code",
   "execution_count": 33,
   "metadata": {},
   "outputs": [
    {
     "name": "stdout",
     "output_type": "stream",
     "text": [
      "hEY hII\n",
      "hEY hELLO\n",
      "wELCOME TO PYTHON\n",
      "eNJOY pYTHON\n",
      "hEY pYTHON IS EASY\n"
     ]
    }
   ],
   "source": [
    "# 7.\tDisplay all the data of the file by swapping the cases( upper to lower and lower to upper)\n",
    "\n",
    "f = open(\"file1.txt\")\n",
    "data = f.read()\n",
    "\n",
    "print(data.swapcase())"
   ]
  },
  {
   "cell_type": "code",
   "execution_count": 39,
   "metadata": {},
   "outputs": [
    {
     "name": "stdout",
     "output_type": "stream",
     "text": [
      "Total lower case characters:  46\n",
      "Total upper case character:  9\n",
      "Total digit character:  1\n"
     ]
    }
   ],
   "source": [
    "# 8.\tDisplay total number of lower case characters, upper case characters and digits in the given file\n",
    "\n",
    "f = open(\"file1.txt\")\n",
    "data = f.read()\n",
    "lcount=0\n",
    "ucount=0\n",
    "dcount=0\n",
    "\n",
    "for x in data:\n",
    "    if(x.islower()):\n",
    "        lcount+=1\n",
    "    elif(x.isupper()):\n",
    "        ucount+=1\n",
    "    elif(x.isdigit()):\n",
    "        dcount+=1\n",
    "\n",
    "print(\"Total lower case characters: \", lcount)\n",
    "print(\"Total upper case character: \", ucount)\n",
    "print(\"Total digit character: \", dcount)\n",
    "\n"
   ]
  },
  {
   "cell_type": "code",
   "execution_count": 1,
   "metadata": {},
   "outputs": [
    {
     "name": "stdout",
     "output_type": "stream",
     "text": [
      "Hey Hii\n",
      "\n",
      "Hey Hello\n",
      "\n",
      "Welcome to python\n",
      "\n"
     ]
    }
   ],
   "source": [
    "f=open(\"file1.txt\")\n",
    "n=4\n",
    "for i in range(1,n):\n",
    "    print(f.readline())"
   ]
  }
 ],
 "metadata": {
  "interpreter": {
   "hash": "9ed1db5f7844330045309647f3cf3e7202c91c30619abdd3edf05f85e0785ea5"
  },
  "kernelspec": {
   "display_name": "Python 3.8.10 64-bit",
   "language": "python",
   "name": "python3"
  },
  "language_info": {
   "codemirror_mode": {
    "name": "ipython",
    "version": 3
   },
   "file_extension": ".py",
   "mimetype": "text/x-python",
   "name": "python",
   "nbconvert_exporter": "python",
   "pygments_lexer": "ipython3",
   "version": "3.8.10"
  },
  "orig_nbformat": 4
 },
 "nbformat": 4,
 "nbformat_minor": 2
}
