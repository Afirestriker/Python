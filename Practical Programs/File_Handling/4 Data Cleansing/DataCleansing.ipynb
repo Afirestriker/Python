{
 "cells": [
  {
   "cell_type": "code",
   "execution_count": 1,
   "metadata": {},
   "outputs": [],
   "source": [
    "# Data Cleansing Notes\n",
    "# Data cleansing is mainly done by using pandas.\n",
    "# In simple terms, Data cleaning/cleansing means fixing bad data in your data set.\n",
    "# Bad Data could be:\n",
    "# a) Empty Cells\n",
    "# b) Data in wrong format\n",
    "# c) Wrong Data\n",
    "# d) Duplicates\n",
    "\n",
    "# Programs:\n",
    "# 1. Remove all rows with NULL values\n",
    "# 2. Replace each NAN value with \"Not Declared\"\n",
    "# 3. Replace NULL values of \"Esalary\" column with any other value\n",
    "# 4. Calculate the mean of Esalary and replace the NAN with mean\n",
    "# 5. Replace only first occurance for salary by 22000 when it is NAN/NULL\n",
    "# 6. Cleaning / Correcting the wrong data, changing the Eno from 1005 to 105\n",
    "# 7. Find Duplicates\n"
   ]
  },
  {
   "cell_type": "code",
   "execution_count": 41,
   "metadata": {},
   "outputs": [
    {
     "data": {
      "text/html": [
       "<div>\n",
       "<style scoped>\n",
       "    .dataframe tbody tr th:only-of-type {\n",
       "        vertical-align: middle;\n",
       "    }\n",
       "\n",
       "    .dataframe tbody tr th {\n",
       "        vertical-align: top;\n",
       "    }\n",
       "\n",
       "    .dataframe thead th {\n",
       "        text-align: right;\n",
       "    }\n",
       "</style>\n",
       "<table border=\"1\" class=\"dataframe\">\n",
       "  <thead>\n",
       "    <tr style=\"text-align: right;\">\n",
       "      <th></th>\n",
       "      <th>Eno</th>\n",
       "      <th>Ename</th>\n",
       "      <th>Esalary</th>\n",
       "    </tr>\n",
       "  </thead>\n",
       "  <tbody>\n",
       "    <tr>\n",
       "      <th>0</th>\n",
       "      <td>101.0</td>\n",
       "      <td>Ename1</td>\n",
       "      <td>10000.0</td>\n",
       "    </tr>\n",
       "    <tr>\n",
       "      <th>3</th>\n",
       "      <td>104.0</td>\n",
       "      <td>Ename4</td>\n",
       "      <td>40000.0</td>\n",
       "    </tr>\n",
       "    <tr>\n",
       "      <th>5</th>\n",
       "      <td>106.0</td>\n",
       "      <td>Ename6</td>\n",
       "      <td>60000.0</td>\n",
       "    </tr>\n",
       "    <tr>\n",
       "      <th>6</th>\n",
       "      <td>106.0</td>\n",
       "      <td>Ename6</td>\n",
       "      <td>60000.0</td>\n",
       "    </tr>\n",
       "  </tbody>\n",
       "</table>\n",
       "</div>"
      ],
      "text/plain": [
       "     Eno   Ename  Esalary\n",
       "0  101.0  Ename1  10000.0\n",
       "3  104.0  Ename4  40000.0\n",
       "5  106.0  Ename6  60000.0\n",
       "6  106.0  Ename6  60000.0"
      ]
     },
     "execution_count": 41,
     "metadata": {},
     "output_type": "execute_result"
    }
   ],
   "source": [
    "# 1. Remove all rows with NULL values\n",
    "\n",
    "#importing pandas library\n",
    "import pandas as pd\n",
    "\n",
    "#Open file in read mode\n",
    "f1=pd.read_csv('bad_data.csv')\n",
    "\n",
    "#Remove the rows with NAN (Not A Number) value, and store in 'data' variable\n",
    "# Note: By default, the dropna() method returns a new DataFrame, and will not change the original.\n",
    "# in dropna 'na' means Not Applicable\n",
    "data = f1.dropna()\n",
    "\n",
    "# If you want to change the original DataFrame, use the inplace = True argument:\n",
    "# data = f1.dropna(inplace=True)\n",
    "\n",
    "#Display the CSV file data\n",
    "data\n"
   ]
  },
  {
   "cell_type": "code",
   "execution_count": 42,
   "metadata": {},
   "outputs": [
    {
     "name": "stdout",
     "output_type": "stream",
     "text": [
      "            Eno         Ename       Esalary\n",
      "0         101.0        Ename1       10000.0\n",
      "1         102.0  Not Declared       20000.0\n",
      "2  Not Declared        Ename3       30000.0\n",
      "3         104.0        Ename4       40000.0\n",
      "4        1005.0        Ename5  Not Declared\n",
      "5         106.0        Ename6       60000.0\n",
      "6         106.0        Ename6       60000.0\n"
     ]
    }
   ],
   "source": [
    "# 2. Replace each NAN value with \"Not Declared\"\n",
    "\n",
    "#import pandas\n",
    "import pandas as pd\n",
    "\n",
    "#Read csv file\n",
    "fo = pd.read_csv(\"bad_data.csv\")\n",
    "\n",
    "new_data = fo.fillna(\"Not Declared\")\n",
    "\n",
    "print(new_data.to_string())\n"
   ]
  },
  {
   "cell_type": "code",
   "execution_count": 43,
   "metadata": {},
   "outputs": [
    {
     "name": "stdout",
     "output_type": "stream",
     "text": [
      "      Eno   Ename       Esalary\n",
      "0   101.0  Ename1       10000.0\n",
      "1   102.0     NaN       20000.0\n",
      "2     NaN  Ename3       30000.0\n",
      "3   104.0  Ename4       40000.0\n",
      "4  1005.0  Ename5  Not Declared\n",
      "5   106.0  Ename6       60000.0\n",
      "6   106.0  Ename6       60000.0\n"
     ]
    }
   ],
   "source": [
    "# 3. Replace NULL values of \"Esalary\" column with any other value\n",
    "\n",
    "import pandas as pd\n",
    "\n",
    "csvFile = pd.read_csv(\"bad_data.csv\")\n",
    "\n",
    "csvFile['Esalary'].fillna(\"Not Declared\", inplace=True)\n",
    "\n",
    "print(csvFile.to_string())"
   ]
  },
  {
   "cell_type": "code",
   "execution_count": 44,
   "metadata": {},
   "outputs": [
    {
     "name": "stdout",
     "output_type": "stream",
     "text": [
      "      Eno   Ename       Esalary\n",
      "0   101.0  Ename1  10000.000000\n",
      "1   102.0     NaN  20000.000000\n",
      "2     NaN  Ename3  30000.000000\n",
      "3   104.0  Ename4  40000.000000\n",
      "4  1005.0  Ename5  36666.666667\n",
      "5   106.0  Ename6  60000.000000\n",
      "6   106.0  Ename6  60000.000000\n"
     ]
    }
   ],
   "source": [
    "# 4. Calculate the mean of Esalary and replace the NAN with mean\n",
    "\n",
    "import pandas as pd\n",
    "\n",
    "fo = pd.read_csv(\"bad_data.csv\")\n",
    "\n",
    "# Mean = the average value (the sum of all values divided by number of values).\n",
    "mean = fo['Esalary'].mean()\n",
    "\n",
    "fo['Esalary'].fillna(mean, inplace=True)\n",
    "\n",
    "print(fo.to_string())\n"
   ]
  },
  {
   "cell_type": "code",
   "execution_count": 74,
   "metadata": {},
   "outputs": [
    {
     "name": "stdout",
     "output_type": "stream",
     "text": [
      "   pno   pname   pprice  qty\n",
      "0  101  pname1    100.0   10\n",
      "1  102  pname2  22000.0   20\n",
      "2  103     NaN    300.0   30\n",
      "3  104  pname4    400.0   40\n",
      "4  102  pname2      NaN   20\n"
     ]
    }
   ],
   "source": [
    "# 5. Replace only first occurance for salary by 22000 when it is NAN/NULL\n",
    "\n",
    "import pandas as pd\n",
    "\n",
    "fo = pd.read_csv(\"product.csv\")\n",
    "fo['pprice'].fillna(22000, limit=1, inplace=True)\n",
    "\n",
    "print(fo.to_string())\n",
    "\n",
    "#Note: In the output for pno=102 the pprice is 22000, but at last row for pno=102 the pprice is NAN\n"
   ]
  },
  {
   "cell_type": "code",
   "execution_count": 46,
   "metadata": {},
   "outputs": [
    {
     "data": {
      "text/html": [
       "<div>\n",
       "<style scoped>\n",
       "    .dataframe tbody tr th:only-of-type {\n",
       "        vertical-align: middle;\n",
       "    }\n",
       "\n",
       "    .dataframe tbody tr th {\n",
       "        vertical-align: top;\n",
       "    }\n",
       "\n",
       "    .dataframe thead th {\n",
       "        text-align: right;\n",
       "    }\n",
       "</style>\n",
       "<table border=\"1\" class=\"dataframe\">\n",
       "  <thead>\n",
       "    <tr style=\"text-align: right;\">\n",
       "      <th></th>\n",
       "      <th>Eno</th>\n",
       "      <th>Ename</th>\n",
       "      <th>Esalary</th>\n",
       "    </tr>\n",
       "  </thead>\n",
       "  <tbody>\n",
       "    <tr>\n",
       "      <th>0</th>\n",
       "      <td>101.0</td>\n",
       "      <td>Ename1</td>\n",
       "      <td>10000.0</td>\n",
       "    </tr>\n",
       "    <tr>\n",
       "      <th>1</th>\n",
       "      <td>102.0</td>\n",
       "      <td>NaN</td>\n",
       "      <td>20000.0</td>\n",
       "    </tr>\n",
       "    <tr>\n",
       "      <th>2</th>\n",
       "      <td>NaN</td>\n",
       "      <td>Ename3</td>\n",
       "      <td>30000.0</td>\n",
       "    </tr>\n",
       "    <tr>\n",
       "      <th>3</th>\n",
       "      <td>104.0</td>\n",
       "      <td>Ename4</td>\n",
       "      <td>40000.0</td>\n",
       "    </tr>\n",
       "    <tr>\n",
       "      <th>4</th>\n",
       "      <td>105.0</td>\n",
       "      <td>Ename5</td>\n",
       "      <td>NaN</td>\n",
       "    </tr>\n",
       "    <tr>\n",
       "      <th>5</th>\n",
       "      <td>106.0</td>\n",
       "      <td>Ename6</td>\n",
       "      <td>60000.0</td>\n",
       "    </tr>\n",
       "    <tr>\n",
       "      <th>6</th>\n",
       "      <td>106.0</td>\n",
       "      <td>Ename6</td>\n",
       "      <td>60000.0</td>\n",
       "    </tr>\n",
       "  </tbody>\n",
       "</table>\n",
       "</div>"
      ],
      "text/plain": [
       "     Eno   Ename  Esalary\n",
       "0  101.0  Ename1  10000.0\n",
       "1  102.0     NaN  20000.0\n",
       "2    NaN  Ename3  30000.0\n",
       "3  104.0  Ename4  40000.0\n",
       "4  105.0  Ename5      NaN\n",
       "5  106.0  Ename6  60000.0\n",
       "6  106.0  Ename6  60000.0"
      ]
     },
     "execution_count": 46,
     "metadata": {},
     "output_type": "execute_result"
    }
   ],
   "source": [
    "# 6. Cleaning / Correcting the wrong data, changing the Eno from 1005 to 105\n",
    "\n",
    "import pandas as pd\n",
    "\n",
    "fo = pd.read_csv(\"bad_data.csv\")\n",
    "\n",
    "#Note: the loc is given based on index value\n",
    "# syntax of loc is loc[row_no, col_no/name]\n",
    "fo.loc[4, 'Eno'] = 105\n",
    "\n",
    "fo\n"
   ]
  },
  {
   "cell_type": "code",
   "execution_count": 2,
   "metadata": {},
   "outputs": [
    {
     "name": "stdout",
     "output_type": "stream",
     "text": [
      "      Eno   Ename  Esalary\n",
      "0   101.0  Ename1  10000.0\n",
      "1   102.0     NaN  20000.0\n",
      "2     NaN  Ename3  30000.0\n",
      "3   104.0  Ename4  40000.0\n",
      "4  1005.0  Ename5      NaN\n",
      "5   106.0  Ename6  60000.0\n",
      "6   106.0  Ename6  60000.0\n"
     ]
    }
   ],
   "source": [
    "# 7. Find and remove duplicates\n",
    "\n",
    "import pandas as pd\n",
    "\n",
    "fo = pd.read_csv(\"bad_data.csv\")\n",
    "\n",
    "#print(fo.duplicated())\n",
    "\n",
    "print(fo.to_string())"
   ]
  },
  {
   "cell_type": "code",
   "execution_count": null,
   "metadata": {},
   "outputs": [],
   "source": [
    "#Practical Program on CSV file and data cleansing\n",
    "\n",
    "# Q. Prepare a file product.csv\n",
    "# pno, pname, price, qty\n",
    "# 1. Display all records\n",
    "# 2. Display records which do not have any null values\n",
    "# 3. Display record status false/true duplicated.\n",
    "# 4. Enter price in place where price is NULL\n",
    "# 5. Skip rows 1 and 3 and print the records\n",
    "# 6. Wherever price is not there replace with 555 and wherever pname is not there replace it with xyz\n",
    "# 7. Replace null value for salary column by mean of available salary values.\n",
    "# 8. Replace null value for salary column by medium of available salary values.\n",
    "\n"
   ]
  },
  {
   "cell_type": "code",
   "execution_count": 53,
   "metadata": {},
   "outputs": [
    {
     "data": {
      "text/html": [
       "<div>\n",
       "<style scoped>\n",
       "    .dataframe tbody tr th:only-of-type {\n",
       "        vertical-align: middle;\n",
       "    }\n",
       "\n",
       "    .dataframe tbody tr th {\n",
       "        vertical-align: top;\n",
       "    }\n",
       "\n",
       "    .dataframe thead th {\n",
       "        text-align: right;\n",
       "    }\n",
       "</style>\n",
       "<table border=\"1\" class=\"dataframe\">\n",
       "  <thead>\n",
       "    <tr style=\"text-align: right;\">\n",
       "      <th></th>\n",
       "      <th>pno</th>\n",
       "      <th>pname</th>\n",
       "      <th>pprice</th>\n",
       "      <th>qty</th>\n",
       "    </tr>\n",
       "  </thead>\n",
       "  <tbody>\n",
       "    <tr>\n",
       "      <th>0</th>\n",
       "      <td>101</td>\n",
       "      <td>pname1</td>\n",
       "      <td>100.0</td>\n",
       "      <td>10</td>\n",
       "    </tr>\n",
       "    <tr>\n",
       "      <th>1</th>\n",
       "      <td>102</td>\n",
       "      <td>pname2</td>\n",
       "      <td>NaN</td>\n",
       "      <td>20</td>\n",
       "    </tr>\n",
       "    <tr>\n",
       "      <th>2</th>\n",
       "      <td>103</td>\n",
       "      <td>NaN</td>\n",
       "      <td>300.0</td>\n",
       "      <td>30</td>\n",
       "    </tr>\n",
       "    <tr>\n",
       "      <th>3</th>\n",
       "      <td>104</td>\n",
       "      <td>pname4</td>\n",
       "      <td>400.0</td>\n",
       "      <td>40</td>\n",
       "    </tr>\n",
       "  </tbody>\n",
       "</table>\n",
       "</div>"
      ],
      "text/plain": [
       "   pno   pname  pprice  qty\n",
       "0  101  pname1   100.0   10\n",
       "1  102  pname2     NaN   20\n",
       "2  103     NaN   300.0   30\n",
       "3  104  pname4   400.0   40"
      ]
     },
     "execution_count": 53,
     "metadata": {},
     "output_type": "execute_result"
    }
   ],
   "source": [
    "# 1. Displaying all records\n",
    "import pandas as pd\n",
    "\n",
    "fo = pd.read_csv(\"product.csv\")\n",
    "\n",
    "fo\n"
   ]
  },
  {
   "cell_type": "code",
   "execution_count": 54,
   "metadata": {},
   "outputs": [
    {
     "data": {
      "text/html": [
       "<div>\n",
       "<style scoped>\n",
       "    .dataframe tbody tr th:only-of-type {\n",
       "        vertical-align: middle;\n",
       "    }\n",
       "\n",
       "    .dataframe tbody tr th {\n",
       "        vertical-align: top;\n",
       "    }\n",
       "\n",
       "    .dataframe thead th {\n",
       "        text-align: right;\n",
       "    }\n",
       "</style>\n",
       "<table border=\"1\" class=\"dataframe\">\n",
       "  <thead>\n",
       "    <tr style=\"text-align: right;\">\n",
       "      <th></th>\n",
       "      <th>pno</th>\n",
       "      <th>pname</th>\n",
       "      <th>pprice</th>\n",
       "      <th>qty</th>\n",
       "    </tr>\n",
       "  </thead>\n",
       "  <tbody>\n",
       "    <tr>\n",
       "      <th>0</th>\n",
       "      <td>101</td>\n",
       "      <td>pname1</td>\n",
       "      <td>100.0</td>\n",
       "      <td>10</td>\n",
       "    </tr>\n",
       "    <tr>\n",
       "      <th>3</th>\n",
       "      <td>104</td>\n",
       "      <td>pname4</td>\n",
       "      <td>400.0</td>\n",
       "      <td>40</td>\n",
       "    </tr>\n",
       "  </tbody>\n",
       "</table>\n",
       "</div>"
      ],
      "text/plain": [
       "   pno   pname  pprice  qty\n",
       "0  101  pname1   100.0   10\n",
       "3  104  pname4   400.0   40"
      ]
     },
     "execution_count": 54,
     "metadata": {},
     "output_type": "execute_result"
    }
   ],
   "source": [
    "#2. Display all records from product.csv which do not have null value\n",
    "\n",
    "import pandas as pd\n",
    "\n",
    "fo = pd.read_csv(\"product.csv\")\n",
    "\n",
    "data = fo.dropna()\n",
    "\n",
    "data\n"
   ]
  },
  {
   "cell_type": "code",
   "execution_count": 56,
   "metadata": {},
   "outputs": [
    {
     "data": {
      "text/plain": [
       "0    False\n",
       "1    False\n",
       "2    False\n",
       "3    False\n",
       "4     True\n",
       "dtype: bool"
      ]
     },
     "execution_count": 56,
     "metadata": {},
     "output_type": "execute_result"
    }
   ],
   "source": [
    "# 3. Display whther records is duplicated (true) or not (false)\n",
    "\n",
    "import pandas as pd\n",
    "fo = pd.read_csv(\"product.csv\")\n",
    "\n",
    "fo.duplicated()\n"
   ]
  },
  {
   "cell_type": "code",
   "execution_count": 58,
   "metadata": {},
   "outputs": [
    {
     "name": "stdout",
     "output_type": "stream",
     "text": [
      "   pno   pname pprice  qty\n",
      "0  101  pname1  100.0   10\n",
      "1  102  pname2  90000   20\n",
      "2  103     NaN  300.0   30\n",
      "3  104  pname4  400.0   40\n",
      "4  102  pname2  90000   20\n"
     ]
    }
   ],
   "source": [
    "# 4. Enter price in place where price is NULL\n",
    "\n",
    "import pandas as pd\n",
    "fo = pd.read_csv(\"product.csv\")\n",
    "fo['pprice'].fillna(\"90000\", inplace=True)\n",
    "\n",
    "print(fo.to_string())"
   ]
  },
  {
   "cell_type": "code",
   "execution_count": 65,
   "metadata": {},
   "outputs": [
    {
     "data": {
      "text/html": [
       "<div>\n",
       "<style scoped>\n",
       "    .dataframe tbody tr th:only-of-type {\n",
       "        vertical-align: middle;\n",
       "    }\n",
       "\n",
       "    .dataframe tbody tr th {\n",
       "        vertical-align: top;\n",
       "    }\n",
       "\n",
       "    .dataframe thead th {\n",
       "        text-align: right;\n",
       "    }\n",
       "</style>\n",
       "<table border=\"1\" class=\"dataframe\">\n",
       "  <thead>\n",
       "    <tr style=\"text-align: right;\">\n",
       "      <th></th>\n",
       "      <th>pno</th>\n",
       "      <th>pname</th>\n",
       "      <th>pprice</th>\n",
       "      <th>qty</th>\n",
       "    </tr>\n",
       "  </thead>\n",
       "  <tbody>\n",
       "    <tr>\n",
       "      <th>0</th>\n",
       "      <td>102</td>\n",
       "      <td>pname2</td>\n",
       "      <td>NaN</td>\n",
       "      <td>20</td>\n",
       "    </tr>\n",
       "    <tr>\n",
       "      <th>1</th>\n",
       "      <td>104</td>\n",
       "      <td>pname4</td>\n",
       "      <td>400.0</td>\n",
       "      <td>40</td>\n",
       "    </tr>\n",
       "    <tr>\n",
       "      <th>2</th>\n",
       "      <td>102</td>\n",
       "      <td>pname2</td>\n",
       "      <td>NaN</td>\n",
       "      <td>20</td>\n",
       "    </tr>\n",
       "  </tbody>\n",
       "</table>\n",
       "</div>"
      ],
      "text/plain": [
       "   pno   pname  pprice  qty\n",
       "0  102  pname2     NaN   20\n",
       "1  104  pname4   400.0   40\n",
       "2  102  pname2     NaN   20"
      ]
     },
     "execution_count": 65,
     "metadata": {},
     "output_type": "execute_result"
    }
   ],
   "source": [
    "# 5. Skip rows 1 and 3 and print the records\n",
    "\n",
    "import pandas as pd\n",
    "\n",
    "fo = pd.read_csv(\"product.csv\", skiprows=[1,3])\n",
    "\n",
    "fo\n"
   ]
  },
  {
   "cell_type": "code",
   "execution_count": 69,
   "metadata": {},
   "outputs": [
    {
     "name": "stdout",
     "output_type": "stream",
     "text": [
      "   pno   pname  pprice  qty\n",
      "0  101  pname1   100.0   10\n",
      "1  102  pname2   555.0   20\n",
      "2  103     XYZ   300.0   30\n",
      "3  104  pname4   400.0   40\n",
      "4  102  pname2   555.0   20\n"
     ]
    }
   ],
   "source": [
    "# 6. Wherever price is not there replace with 555 and wherever pname is not there replace it with xyz\n",
    "\n",
    "import pandas as pd\n",
    "fo = pd.read_csv(\"product.csv\")\n",
    "\n",
    "#Wherever price is NAN fill with 555\n",
    "fo['pprice'].fillna(555, inplace=True)\n",
    "\n",
    "#Wherever pname is NAN fill with XYZ\n",
    "fo['pname'].fillna(\"XYZ\", inplace=True)\n",
    "\n",
    "print(fo.to_string())\n"
   ]
  },
  {
   "cell_type": "code",
   "execution_count": 70,
   "metadata": {},
   "outputs": [
    {
     "name": "stdout",
     "output_type": "stream",
     "text": [
      "   pno   pname      pprice  qty\n",
      "0  101  pname1  100.000000   10\n",
      "1  102  pname2  266.666667   20\n",
      "2  103     NaN  300.000000   30\n",
      "3  104  pname4  400.000000   40\n",
      "4  102  pname2  266.666667   20\n"
     ]
    }
   ],
   "source": [
    "# 7. Replace null value for salary column by mean of available salary values.\n",
    "\n",
    "import pandas as pd\n",
    "\n",
    "fo = pd.read_csv(\"product.csv\")\n",
    "\n",
    "#calculate and Store the mean value of entire pprice column\n",
    "mean = fo['pprice'].mean()\n",
    "\n",
    "#Replace pprice NAN value with mean\n",
    "fo['pprice'].fillna(mean, inplace=True)\n",
    "\n",
    "print(fo.to_string())\n",
    "\n"
   ]
  },
  {
   "cell_type": "code",
   "execution_count": 71,
   "metadata": {},
   "outputs": [
    {
     "name": "stdout",
     "output_type": "stream",
     "text": [
      "   pno   pname  pprice  qty\n",
      "0  101  pname1   100.0   10\n",
      "1  102  pname2   300.0   20\n",
      "2  103     NaN   300.0   30\n",
      "3  104  pname4   400.0   40\n",
      "4  102  pname2   300.0   20\n"
     ]
    }
   ],
   "source": [
    "# 8. Replace null value for salary column by medium of available salary values.\n",
    "\n",
    "import pandas as pd\n",
    "fo = pd.read_csv(\"product.csv\")\n",
    "median = fo['pprice'].median()\n",
    "fo['pprice'].fillna(median, inplace=True)\n",
    "\n",
    "print(fo.to_string())\n"
   ]
  }
 ],
 "metadata": {
  "interpreter": {
   "hash": "9ed1db5f7844330045309647f3cf3e7202c91c30619abdd3edf05f85e0785ea5"
  },
  "kernelspec": {
   "display_name": "Python 3.8.10 64-bit",
   "language": "python",
   "name": "python3"
  },
  "language_info": {
   "codemirror_mode": {
    "name": "ipython",
    "version": 3
   },
   "file_extension": ".py",
   "mimetype": "text/x-python",
   "name": "python",
   "nbconvert_exporter": "python",
   "pygments_lexer": "ipython3",
   "version": "3.8.10"
  },
  "orig_nbformat": 4
 },
 "nbformat": 4,
 "nbformat_minor": 2
}
