{
 "cells": [
  {
   "cell_type": "code",
   "execution_count": null,
   "metadata": {},
   "outputs": [],
   "source": [
    "\n",
    "#Perform Arithmetic operations\n",
    "\n",
    "num1 = 2\n",
    "num2 = 4\n",
    "\n",
    "print(\"Addition: \", num1+num2)\n",
    "print(\"Substraction: \", num1-num2)\n",
    "print(\"Multiplication: \", num1*num2)\n",
    "print(\"Modulus: \", num1%num2)\n",
    "print(\"Division: \", num1/num2)\n",
    "print(\"Exponenet: \", num1**num2)\n",
    "\n"
   ]
  },
  {
   "cell_type": "code",
   "execution_count": null,
   "metadata": {},
   "outputs": [],
   "source": [
    "#Perform Arithmetic operations by accepting values from user\n",
    "\n",
    "num1 = int(input(\"Enter num1: \"))\n",
    "num2 = int(input(\"Enter num2: \"))\n",
    "\n",
    "print(\"Addition: \", num1+num2)\n",
    "print(\"Substraction: \", num1-num2)\n",
    "print(\"Multiplication: \", num1*num2)\n",
    "print(\"Modulus: \", num1%num2)\n",
    "print(\"Division: \", num1/num2)\n",
    "print(\"Exponenet: \", num1**num2)\n"
   ]
  }
 ],
 "metadata": {
  "interpreter": {
   "hash": "9ed1db5f7844330045309647f3cf3e7202c91c30619abdd3edf05f85e0785ea5"
  },
  "kernelspec": {
   "display_name": "Python 3.8.10 64-bit",
   "language": "python",
   "name": "python3"
  },
  "language_info": {
   "codemirror_mode": {
    "name": "ipython",
    "version": 3
   },
   "file_extension": ".py",
   "mimetype": "text/x-python",
   "name": "python",
   "nbconvert_exporter": "python",
   "pygments_lexer": "ipython3",
   "version": "3.8.10"
  },
  "orig_nbformat": 4
 },
 "nbformat": 4,
 "nbformat_minor": 2
}
