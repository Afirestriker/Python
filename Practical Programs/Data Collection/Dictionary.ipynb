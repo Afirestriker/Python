{
 "cells": [
  {
   "cell_type": "code",
   "execution_count": null,
   "metadata": {},
   "outputs": [],
   "source": [
    "#Dictionary in Python\n",
    "\n",
    "#Dictionary is a unordered collection of data in the form of key:value pair,\n",
    "#Dictionary is created by placing a sequence of element within curcly {} braces, separated by 'comma'.\n",
    "#Note: values in dictionary can be of any type, duplicated and if no vlaues is assign then default value is used, whereas key is always unique and canno be duplicated, but its values can be overwritten.\n",
    "\n",
    "#Programs on dictionary\n",
    "# 1. Sample dictinary program\n",
    "# 2. Create and print dictionary keys and values using for loop\n",
    "# 3. Create and print dictionary element in key:value pair\n",
    "# 4. Print dictionary in sorted order\n",
    "# 5. Create a nested dictionary and print it.\n",
    "# 6. Create a nested dictionary and print only values of it.\n",
    "# 7. Create a nested dictionary and print each items in key:value pair.\n",
    "# 8: convert list to dictionary with default values\n",
    "# 9: Convert list to dictionary and assign values by accepting from user\n",
    "# 10: convert list to dict using user define function\n"
   ]
  },
  {
   "cell_type": "code",
   "execution_count": 13,
   "metadata": {},
   "outputs": [
    {
     "name": "stdout",
     "output_type": "stream",
     "text": [
      "{'rno': 101, 'Sname': 'Rohan', 'Div': 'B'}\n",
      "{'rno': 102, 'Sname': 'Poonam', 'Div': 'A'}\n",
      "Poonam\n",
      "4\n",
      "<class 'dict'>\n",
      "<class 'dict'>\n"
     ]
    }
   ],
   "source": [
    "# 1. Sample dictinary program\n",
    "\n",
    "#dictionary 1\n",
    "dict = {\"rno\":101, \"Sname\":\"Rohan\", \"Div\":\"B\"}\n",
    "print(dict)\n",
    "\n",
    "#dictionary 2\n",
    "stud = {\"rno\":102, \"Sname\":\"Poonam\", \"Div\":\"A\"}\n",
    "print(stud)\n",
    "print(stud[\"Sname\"])\n",
    "\n",
    "#dictionary 3\n",
    "    #Duplicated values are overwritten as in Sname\n",
    "stud1 = {\"rno\":103, \"Snaem\":\"Puja\", \"Div\":\"A\", \"Sname\":\"Mohan\"}\n",
    "\n",
    "print(len(stud1))\n",
    "print(type(stud1))\n",
    "print(type(dict))\n"
   ]
  },
  {
   "cell_type": "code",
   "execution_count": 16,
   "metadata": {},
   "outputs": [
    {
     "name": "stdout",
     "output_type": "stream",
     "text": [
      "rno\n",
      "Sname\n",
      "Div\n",
      "101\n",
      "Poonam\n",
      "B\n"
     ]
    }
   ],
   "source": [
    "# 2. Create and print dictionary keys and values using for loop\n",
    "\n",
    "dict = {\"rno\":101, \"Sname\":\"Poonam\", \"Div\":\"B\"}\n",
    "\n",
    "#Print only keys\n",
    "for x in dict:\n",
    "    print(x)\n",
    "\n",
    "#Print only values\n",
    "for x in dict.values():\n",
    "    print(x)\n"
   ]
  },
  {
   "cell_type": "code",
   "execution_count": 5,
   "metadata": {},
   "outputs": [
    {
     "name": "stdout",
     "output_type": "stream",
     "text": [
      "Name : Anchorage\n",
      "State : Alaska\n",
      "Country : US\n",
      "Area : 5,042 KM\n"
     ]
    }
   ],
   "source": [
    "# 3. Create and print dictionary element in key:value pair\n",
    "\n",
    "city = {\"Name\": \"Anchorage\", \"State\":\"Alaska\", \"Country\": \"US\", \"Area\":\"5,042 KM\"}\n",
    "\n",
    "for x,y in city.items():\n",
    "    print(x, \":\", y)\n"
   ]
  },
  {
   "cell_type": "code",
   "execution_count": 1,
   "metadata": {},
   "outputs": [
    {
     "name": "stdout",
     "output_type": "stream",
     "text": [
      "['NameA', 'NameB', 'NameC', 'NameD']\n"
     ]
    }
   ],
   "source": [
    "# 4. Print dictionary in sorted order\n",
    "\n",
    "#sorting a dictionary\n",
    "dict = {\"NameB\", \"NameD\", \"NameA\", \"NameC\"}\n",
    "print(sorted(dict))\n"
   ]
  },
  {
   "cell_type": "code",
   "execution_count": 7,
   "metadata": {},
   "outputs": [
    {
     "name": "stdout",
     "output_type": "stream",
     "text": [
      "{'Anchorage': {'State': 'Alaska', 'Country': 'US', 'Area': '5,042 KM'}, 'Juneau': {'State': 'Alaska', 'Country': 'USA', 'Area': '8,340 KM'}}\n"
     ]
    }
   ],
   "source": [
    "# 5. Create a nested dictionary and print it.\n",
    "\n",
    "city = { \"Anchorage\":{\"State\":\"Alaska\", \"Country\": \"US\", \"Area\":\"5,042 KM\"}, \"Juneau\":{\"State\":\"Alaska\", \"Country\":\"USA\", \"Area\":\"8,340 KM\"} }\n",
    "\n",
    "print(city)\n"
   ]
  },
  {
   "cell_type": "code",
   "execution_count": 6,
   "metadata": {},
   "outputs": [
    {
     "name": "stdout",
     "output_type": "stream",
     "text": [
      "{'State': 'Alaska', 'Country': 'US', 'Area': '5,042 KM'}\n",
      "{'State': 'Alaska', 'Country': 'USA', 'Area': '8,340 KM'}\n"
     ]
    }
   ],
   "source": [
    "# 6. Create a nested dictionary and print only values of it.\n",
    "\n",
    "#Nested Dictionary storing two cities iformation \"Anchorage\" and \"Juneau\"\n",
    "city = { \"Anchorage\":{\"State\":\"Alaska\", \"Country\": \"US\", \"Area\":\"5,042 KM\"}, \"Juneau\":{\"State\":\"Alaska\", \"Country\":\"USA\", \"Area\":\"8,340 KM\"} }\n",
    "\n",
    "#Printing the values of nested dictionary 'city.'\n",
    "for x in city.values():\n",
    "    print(x)\n"
   ]
  },
  {
   "cell_type": "code",
   "execution_count": 11,
   "metadata": {},
   "outputs": [
    {
     "name": "stdout",
     "output_type": "stream",
     "text": [
      "Anchorage {'State': 'Alaska', 'Country': 'US', 'Area': '5,042 KM'}\n",
      "Juneau {'State': 'Alaska', 'Country': 'USA', 'Area': '8,340 KM'}\n"
     ]
    }
   ],
   "source": [
    "# 7. Create a nested dictionary and print each items in key:value pair.\n",
    "\n",
    "#Nested Dictionary storing two cities iformation \"Anchorage\" and \"Juneau\"\n",
    "city = { \"Anchorage\":{\"State\":\"Alaska\", \"Country\": \"US\", \"Area\":\"5,042 KM\"}, \"Juneau\":{\"State\":\"Alaska\", \"Country\":\"USA\", \"Area\":\"8,340 KM\"} }\n",
    "\n",
    "#Printing the values of nested dictionary 'city.'\n",
    "for x,y in city.items():\n",
    "    print(x, y)\n"
   ]
  },
  {
   "cell_type": "code",
   "execution_count": 22,
   "metadata": {},
   "outputs": [
    {
     "name": "stdout",
     "output_type": "stream",
     "text": [
      "<class 'list'>\n",
      "<class 'dict'>\n",
      "{'CityA': None, 'CityB': None, 'CityC': None, 'CityD': None}\n"
     ]
    }
   ],
   "source": [
    "\n",
    "# 8: Convert list to dictionary with default values\n",
    "\n",
    "cities = [\"CityA\", \"CityB\", \"CityC\", \"CityD\"]\n",
    "print(type(cities))\n",
    "\n",
    "#city = dict.fromkeys(cities,4)\n",
    "city = dict.fromkeys(cities)\n",
    "\n",
    "print(type(city))\n",
    "print(city)\n"
   ]
  },
  {
   "cell_type": "code",
   "execution_count": 23,
   "metadata": {},
   "outputs": [
    {
     "name": "stdout",
     "output_type": "stream",
     "text": [
      "<class 'list'>\n",
      "<class 'dict'>\n",
      "{'CityA': None, 'CityB': None, 'CityC': None, 'CityD': None}\n",
      "CityA : 8\n",
      "CityB : 4\n",
      "CityC : 5\n",
      "CityD : 9\n"
     ]
    }
   ],
   "source": [
    "\n",
    "# 9: Convert list to dictionary and assign values by accepting from user\n",
    "\n",
    "cities = [\"CityA\", \"CityB\", \"CityC\", \"CityD\"]\n",
    "print(type(cities))\n",
    "\n",
    "#city = dict.fromkeys(cities,4)\n",
    "city = dict.fromkeys(cities)\n",
    "\n",
    "print(type(city))\n",
    "\n",
    "#Dict with default values\n",
    "print(city)\n",
    "\n",
    "#Assignining values to dictionary\n",
    "for x in city.keys():\n",
    "    value = input(f\"Enter value for {x}:\")\n",
    "    city[x] = value\n",
    "\n",
    "for x,y in city.items():\n",
    "    print(x, \":\", y)\n",
    "\n"
   ]
  },
  {
   "cell_type": "code",
   "execution_count": 24,
   "metadata": {},
   "outputs": [
    {
     "name": "stdout",
     "output_type": "stream",
     "text": [
      "{0: 'CityA', 1: 'CityB', 2: 'CityC', 3: 'CityD'}\n"
     ]
    }
   ],
   "source": [
    "# 10: convert list to dict using user define function\n",
    "\n",
    "def listtodict(cities):\n",
    "    city = { i : cities[i] for i in range(0, len(cities) ) }\n",
    "    return city\n",
    "\n",
    "cities = [\"CityA\", \"CityB\", \"CityC\", \"CityD\"]\n",
    "print(listtodict(cities))\n"
   ]
  }
 ],
 "metadata": {
  "interpreter": {
   "hash": "9ed1db5f7844330045309647f3cf3e7202c91c30619abdd3edf05f85e0785ea5"
  },
  "kernelspec": {
   "display_name": "Python 3.8.10 64-bit",
   "language": "python",
   "name": "python3"
  },
  "language_info": {
   "codemirror_mode": {
    "name": "ipython",
    "version": 3
   },
   "file_extension": ".py",
   "mimetype": "text/x-python",
   "name": "python",
   "nbconvert_exporter": "python",
   "pygments_lexer": "ipython3",
   "version": "3.8.10"
  },
  "orig_nbformat": 4
 },
 "nbformat": 4,
 "nbformat_minor": 2
}
