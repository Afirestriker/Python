{
 "cells": [
  {
   "cell_type": "code",
   "execution_count": null,
   "metadata": {},
   "outputs": [],
   "source": [
    "#Tuples Data Collection\n",
    "\n",
    "#program 1: Create a tuple containing string values and also display the length.\n",
    "#Program 2: Create a tuple containing integer, and boolean values.\n",
    "#Program 3: Create a tuple with different data types.\n",
    "#Program 4: Create a tuple using tuple() method.\n"
   ]
  },
  {
   "cell_type": "code",
   "execution_count": 2,
   "metadata": {},
   "outputs": [
    {
     "name": "stdout",
     "output_type": "stream",
     "text": [
      "('apple', 'banana', 'grapes', 'mango', 'orange')\n",
      "5\n"
     ]
    }
   ],
   "source": [
    "#program 1: Create a tuple containing string values and also display the length.\n",
    "\n",
    "#create a tuple named fruits\n",
    "fruits = (\"apple\", \"banana\", \"grapes\", \"mango\", \"orange\")\n",
    "\n",
    "#print the tuple\n",
    "print(fruits)\n",
    "\n",
    "#print tuple length\n",
    "print(len(fruits))\n"
   ]
  },
  {
   "cell_type": "code",
   "execution_count": 4,
   "metadata": {},
   "outputs": [
    {
     "name": "stdout",
     "output_type": "stream",
     "text": [
      "(1, 2, 102, 5, 50)\n",
      "(True, False, False, True, True)\n"
     ]
    }
   ],
   "source": [
    "#Program 2: Create a tuple containing integer, and boolean values.\n",
    "\n",
    "#Tuple containing integer values\n",
    "numbers = (1, 2, 102, 5, 50)\n",
    "print(numbers)\n",
    "\n",
    "#Tuple containing boolean values\n",
    "answers = (True, False, False, True, True)\n",
    "print(answers)\n"
   ]
  },
  {
   "cell_type": "code",
   "execution_count": 5,
   "metadata": {},
   "outputs": [
    {
     "name": "stdout",
     "output_type": "stream",
     "text": [
      "('MixTuple', 105, True)\n"
     ]
    }
   ],
   "source": [
    "#Program 3: Create a tuple with different data types.\n",
    "\n",
    "mixValues = (\"MixTuple\", 105, True)\n",
    "print(mixValues)\n"
   ]
  },
  {
   "cell_type": "code",
   "execution_count": 6,
   "metadata": {},
   "outputs": [
    {
     "name": "stdout",
     "output_type": "stream",
     "text": [
      "('Rose', 'Lilly', 'Lotus')\n"
     ]
    }
   ],
   "source": [
    "#Program 4: Create a tuple using tuple() method.\n",
    "\n",
    "flowers = tuple((\"Rose\", \"Lilly\", \"Lotus\"))\n",
    "print(flowers)\n"
   ]
  }
 ],
 "metadata": {
  "interpreter": {
   "hash": "9ed1db5f7844330045309647f3cf3e7202c91c30619abdd3edf05f85e0785ea5"
  },
  "kernelspec": {
   "display_name": "Python 3.8.10 64-bit",
   "language": "python",
   "name": "python3"
  },
  "language_info": {
   "codemirror_mode": {
    "name": "ipython",
    "version": 3
   },
   "file_extension": ".py",
   "mimetype": "text/x-python",
   "name": "python",
   "nbconvert_exporter": "python",
   "pygments_lexer": "ipython3",
   "version": "3.8.10"
  },
  "orig_nbformat": 4
 },
 "nbformat": 4,
 "nbformat_minor": 2
}
