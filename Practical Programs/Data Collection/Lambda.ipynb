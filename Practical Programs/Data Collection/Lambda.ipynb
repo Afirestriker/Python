{
 "cells": [
  {
   "cell_type": "code",
   "execution_count": null,
   "metadata": {},
   "outputs": [],
   "source": [
    "#Lambda in python\n",
    "\n",
    "# lambda is the keyword\n",
    "# lambda is the predefine function, which takes user define argument and returning the process values.\n",
    "\n",
    "#Program 1: lambda function is taking x as the argument and returning square of x\n",
    "#Program 2: lambda function is taking x and y as argument and return x to the power of y\n"
   ]
  },
  {
   "cell_type": "code",
   "execution_count": 2,
   "metadata": {},
   "outputs": [
    {
     "name": "stdout",
     "output_type": "stream",
     "text": [
      "25\n"
     ]
    }
   ],
   "source": [
    "# Program 1: lambda function is taking x as the argument and returning square of x\n",
    "\n",
    "# int is not the data type, but it defines the return type of lambda\n",
    "int = lambda x: x*x\n",
    "print(int(5))\n"
   ]
  },
  {
   "cell_type": "code",
   "execution_count": 1,
   "metadata": {},
   "outputs": [
    {
     "name": "stdout",
     "output_type": "stream",
     "text": [
      "125\n",
      "125\n"
     ]
    }
   ],
   "source": [
    "# Program 2: lambda function is taking x and y as argument and return x to the power of y\n",
    "\n",
    "int = lambda x,n: x ** n\n",
    "\n",
    "print(int(5,3))\n",
    "\n",
    "#alternative\n",
    "def numpower(n,p):\n",
    "    return(n**p)\n",
    "print(numpower(5,3))\n"
   ]
  }
 ],
 "metadata": {
  "interpreter": {
   "hash": "9ed1db5f7844330045309647f3cf3e7202c91c30619abdd3edf05f85e0785ea5"
  },
  "kernelspec": {
   "display_name": "Python 3.8.10 64-bit",
   "language": "python",
   "name": "python3"
  },
  "language_info": {
   "codemirror_mode": {
    "name": "ipython",
    "version": 3
   },
   "file_extension": ".py",
   "mimetype": "text/x-python",
   "name": "python",
   "nbconvert_exporter": "python",
   "pygments_lexer": "ipython3",
   "version": "3.8.10"
  },
  "orig_nbformat": 4
 },
 "nbformat": 4,
 "nbformat_minor": 2
}
