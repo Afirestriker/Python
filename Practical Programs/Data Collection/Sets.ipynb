{
 "cells": [
  {
   "cell_type": "code",
   "execution_count": null,
   "metadata": {},
   "outputs": [],
   "source": [
    "#Sets in python\n",
    "\n",
    "#Set does not allow any duplicate element\n",
    "\n",
    "#program 1: Sample program on sets"
   ]
  },
  {
   "cell_type": "code",
   "execution_count": 1,
   "metadata": {},
   "outputs": [
    {
     "name": "stdout",
     "output_type": "stream",
     "text": [
      "{'banana', 'apple', 'mango'}\n",
      "{'banana', 'apple', 'mango'}\n",
      "{'banana', 'organge', 'apple', 'mango'}\n",
      "{'banana', 'organge', 'apple'}\n"
     ]
    }
   ],
   "source": [
    "#program 1: Sample program on sets\n",
    "\n",
    "#Sets in pyhon\n",
    "fruits = set ([\"banana\", \"mango\", \"apple\"])\n",
    "print(fruits)\n",
    "\n",
    "fruits = set([\"banana\", \"mango\", \"apple\", \"banana\"])\n",
    "print(fruits)\n",
    "\n",
    "#add extra element in set\n",
    "fruits.add(\"organge\")\n",
    "print(fruits)\n",
    "\n",
    "#remove an element from set\n",
    "fruits.remove(\"mango\")\n",
    "print(fruits)\n"
   ]
  }
 ],
 "metadata": {
  "interpreter": {
   "hash": "9ed1db5f7844330045309647f3cf3e7202c91c30619abdd3edf05f85e0785ea5"
  },
  "kernelspec": {
   "display_name": "Python 3.8.10 64-bit",
   "language": "python",
   "name": "python3"
  },
  "language_info": {
   "codemirror_mode": {
    "name": "ipython",
    "version": 3
   },
   "file_extension": ".py",
   "mimetype": "text/x-python",
   "name": "python",
   "nbconvert_exporter": "python",
   "pygments_lexer": "ipython3",
   "version": "3.8.10"
  },
  "orig_nbformat": 4
 },
 "nbformat": 4,
 "nbformat_minor": 2
}
