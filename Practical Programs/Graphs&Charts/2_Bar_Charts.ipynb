{
 "cells": [
  {
   "cell_type": "code",
   "execution_count": null,
   "metadata": {},
   "outputs": [],
   "source": [
    "# Bar chart\n",
    "    # 1. Creating a bar chart (By defualt it is vertical bar chart)\n",
    "    # 2. Create a horizontal bar chart with color=\"Green\"\n",
    "    # 3. Create a 1 bar chart where the widht of the bar is user-define\n",
    "\n",
    "#Bar charts using CSV file\n",
    "    # 4. Draw a bar chart from produc.csv. Displaying product name and price\n",
    "    "
   ]
  },
  {
   "cell_type": "code",
   "execution_count": 9,
   "metadata": {},
   "outputs": [
    {
     "name": "stdout",
     "output_type": "stream",
     "text": [
      "Vertical Bar chart:\n"
     ]
    },
    {
     "data": {
      "image/png": "[encoded data removed]",
      "text/plain": [
       "<Figure size 432x288 with 1 Axes>"
      ]
     },
     "metadata": {
      "needs_background": "light"
     },
     "output_type": "display_data"
    },
    {
     "name": "stdout",
     "output_type": "stream",
     "text": [
      "Horizontal Bar chart:\n"
     ]
    },
    {
     "data": {
      "image/png": "[encoded data removed]",
      "text/plain": [
       "<Figure size 432x288 with 1 Axes>"
      ]
     },
     "metadata": {
      "needs_background": "light"
     },
     "output_type": "display_data"
    }
   ],
   "source": [
    "# 1. Creating a bar chart (By defualt it is vertical bar chart)\n",
    "\n",
    "import matplotlib.pyplot as plt\n",
    "import numpy as np\n",
    "\n",
    "x = np.array([\"DBMS\", \"C++\", \"OS\", \"Stats\"])\n",
    "y = np.array([89,58,76,71])\n",
    "\n",
    "#For DBMS -> 89\n",
    "#For C++ -> 58\n",
    "#For OS -> 76\n",
    "#For Stats -> 71\n",
    "\n",
    "#Creating a bar chart, by default its create vertical bar chart\n",
    "print(\"Vertical Bar chart:\")\n",
    "#contructing a bar chart\n",
    "plt.bar(x,y)\n",
    "#Displayig a bar chart\n",
    "plt.show()\n",
    "\n",
    "#Creating a horizontal bar chart\n",
    "print(\"Horizontal Bar chart:\")\n",
    "#contructing a bar chart using barh() method, where 'h' stands for horizontal\n",
    "plt.barh(x,y)\n",
    "plt.show()"
   ]
  },
  {
   "cell_type": "code",
   "execution_count": 2,
   "metadata": {},
   "outputs": [
    {
     "data": {
      "image/png": "[encoded data removed]",
      "text/plain": [
       "<Figure size 432x288 with 1 Axes>"
      ]
     },
     "metadata": {
      "needs_background": "light"
     },
     "output_type": "display_data"
    }
   ],
   "source": [
    "# 2. Create a horizontal bar chart with color=\"Green\"\n",
    "\n",
    "#import\n",
    "import matplotlib.pyplot as plt\n",
    "import numpy as np\n",
    "\n",
    "xpoints = np.array([\"DBMS\", \"CPP\", \"C\", \"Pyton\"])\n",
    "ypoints = np.array([98, 85, 78, 70])\n",
    "\n",
    "plt.barh(xpoints, ypoints, color=\"green\")\n",
    "plt.show()"
   ]
  },
  {
   "cell_type": "code",
   "execution_count": 8,
   "metadata": {},
   "outputs": [
    {
     "data": {
      "image/png": "[encoded data removed]",
      "text/plain": [
       "<Figure size 432x288 with 1 Axes>"
      ]
     },
     "metadata": {
      "needs_background": "light"
     },
     "output_type": "display_data"
    }
   ],
   "source": [
    "# 3. Create a 1 bar chart where the widht of the bar is user-define\n",
    "\n",
    "import matplotlib.pyplot as plt\n",
    "\n",
    "building = [\"Building1\", \"Building2\", \"Building3\", \"Building4\"]\n",
    "height = [50, 70, 68, 86]\n",
    "\n",
    "#cotruct a bar chart having widht=0.2\n",
    "plt.bar(building, height, width=0.2)\n",
    "\n",
    "plt.show()\n"
   ]
  },
  {
   "cell_type": "code",
   "execution_count": 7,
   "metadata": {},
   "outputs": [
    {
     "data": {
      "image/png": "[encoded data removed]",
      "text/plain": [
       "<Figure size 432x288 with 1 Axes>"
      ]
     },
     "metadata": {
      "needs_background": "light"
     },
     "output_type": "display_data"
    }
   ],
   "source": [
    "#Bar chart using CSV file\n",
    "# 4. Draw a bar chart from produc.csv. Displaying product name and price\n",
    "\n",
    "import matplotlib.pyplot as plt\n",
    "import pandas as pd\n",
    "\n",
    "csv_file = pd.read_csv(\"products.csv\")\n",
    "\n",
    "x = csv_file[\"pname\"]\n",
    "y = csv_file[\"pprice\"]\n",
    "\n",
    "plt.bar(x, y)\n",
    "plt.show()"
   ]
  }
 ],
 "metadata": {
  "interpreter": {
   "hash": "9ed1db5f7844330045309647f3cf3e7202c91c30619abdd3edf05f85e0785ea5"
  },
  "kernelspec": {
   "display_name": "Python 3.8.10 64-bit",
   "language": "python",
   "name": "python3"
  },
  "language_info": {
   "codemirror_mode": {
    "name": "ipython",
    "version": 3
   },
   "file_extension": ".py",
   "mimetype": "text/x-python",
   "name": "python",
   "nbconvert_exporter": "python",
   "pygments_lexer": "ipython3",
   "version": "3.8.10"
  },
  "orig_nbformat": 4
 },
 "nbformat": 4,
 "nbformat_minor": 2
}
