{
 "cells": [
  {
   "cell_type": "code",
   "execution_count": null,
   "metadata": {},
   "outputs": [],
   "source": [
    "# Exception handling in Python\n",
    "# Excpetion is abnormal termination of program\n",
    "\n",
    "# Programs\n",
    "# 1. Exceptio in pytho basic program\n",
    "# 2. ZeroDivisonError exception handling\n",
    "# 3.  Program to handle two specific exception.\n",
    "# 4. TypeError handling\n",
    "# 5. Attribute Error\n",
    "# 6. Nested try\n",
    "# 7. Name error\n",
    "# 8. Raise user-define exception\n"
   ]
  },
  {
   "cell_type": "code",
   "execution_count": 2,
   "metadata": {},
   "outputs": [
    {
     "name": "stdout",
     "output_type": "stream",
     "text": [
      "Division by zero (0) exception\n"
     ]
    }
   ],
   "source": [
    "# 1. Exceptio in pytho basic program\n",
    "\n",
    "a = int(input(\"Enter A:\"))\n",
    "b = int(input(\"Enter B:\"))\n",
    "\n",
    "try:\n",
    "    print(a/b)\n",
    "# here, except will check for globaly all type of exception\n",
    "except:\n",
    "    print(\"Division by zero (0) exception\")\n",
    "\n"
   ]
  },
  {
   "cell_type": "code",
   "execution_count": 8,
   "metadata": {},
   "outputs": [
    {
     "name": "stdout",
     "output_type": "stream",
     "text": [
      "0.5\n",
      "Exception\n"
     ]
    }
   ],
   "source": [
    "# 2. ZeroDivisonError exception handling\n",
    "\n",
    "a = int(input(\"Enter A:\"))\n",
    "b = int(input(\"Enter B:\"))\n",
    "\n",
    "try:\n",
    "    print(a/b)\n",
    "# here, except will check for only ZeroDivisionError,\n",
    "except ZeroDivisionError:\n",
    "    print(\"Division by zero (0) exception\")\n"
   ]
  },
  {
   "cell_type": "code",
   "execution_count": 4,
   "metadata": {},
   "outputs": [
    {
     "name": "stdout",
     "output_type": "stream",
     "text": [
      "0.5\n",
      "Arrout index out of bound exception\n",
      "Finally Block Statement\n"
     ]
    }
   ],
   "source": [
    "# 3.  Program to handle two specific exception.\n",
    "\n",
    "import numpy as np\n",
    "\n",
    "arr = np.array([45, 78, 90])\n",
    "a = int(input(\"Enter a: \"))\n",
    "b = int(input(\"enter b: \"))\n",
    "\n",
    "try:\n",
    "    print(a/b)\n",
    "    arr[3] = 99\n",
    "except ZeroDivisionError:\n",
    "    print(\"Division by zero (0) exception\")\n",
    "except IndexError:\n",
    "    print(\"Arrout index out of bound exception\")\n",
    "# finally, block will execute in every scenario, finally block is usually used for clean up purpose.\n",
    "finally:\n",
    "    print(\"Finally Block Statement\")\n",
    "\n"
   ]
  },
  {
   "cell_type": "code",
   "execution_count": 9,
   "metadata": {},
   "outputs": [
    {
     "name": "stdout",
     "output_type": "stream",
     "text": [
      "Can't add int and string togetehr\n"
     ]
    }
   ],
   "source": [
    "# 4. TypeError handling\n",
    "\n",
    "a =20\n",
    "b = \"welcome\"\n",
    "\n",
    "try:\n",
    "    print(a+b)\n",
    "except TypeError:\n",
    "    print(\"Can't add int and string togetehr\")\n"
   ]
  },
  {
   "cell_type": "code",
   "execution_count": 10,
   "metadata": {},
   "outputs": [
    {
     "name": "stdout",
     "output_type": "stream",
     "text": [
      "can't append value to int variable\n"
     ]
    }
   ],
   "source": [
    "# 5. Attribute Error\n",
    "\n",
    "a = 100\n",
    "\n",
    "try:\n",
    "    # append is the method use with list and hence here it gives exception.\n",
    "    a.append(90)\n",
    "except AttributeError:\n",
    "    print(\"can't append value to int variable\")\n"
   ]
  },
  {
   "cell_type": "code",
   "execution_count": 13,
   "metadata": {},
   "outputs": [
    {
     "name": "stdout",
     "output_type": "stream",
     "text": [
      "Outer try block\n",
      "Inner try block\n",
      "Inner except block\n",
      "Inner finally block\n",
      "Outer finally block\n"
     ]
    }
   ],
   "source": [
    "# 6. Nested try\n",
    "\n",
    "import numpy as np\n",
    "\n",
    "arr = np.array([56, 89, 90])\n",
    "\n",
    "try:\n",
    "    print(\"Outer try block\")\n",
    "    #arr[3] = 99\n",
    "    #the inner try block will execute only if outer try block does not throw any exception\n",
    "    try:\n",
    "        print(\"Inner try block\")\n",
    "        print(8/0)\n",
    "    except ZeroDivisionError:\n",
    "        print(\"Inner except block\")\n",
    "    finally:\n",
    "        print(\"Inner finally block\")\n",
    "except IndexError:\n",
    "    print(\"outer except block \\t Array Index out of bound\")\n",
    "finally:\n",
    "    print(\"Outer finally block\")\n"
   ]
  },
  {
   "cell_type": "code",
   "execution_count": 19,
   "metadata": {},
   "outputs": [
    {
     "name": "stdout",
     "output_type": "stream",
     "text": [
      "Name error occur\n"
     ]
    }
   ],
   "source": [
    "# 7. Name error\n",
    "\n",
    "userName = \"Ash\"\n",
    "\n",
    "try:\n",
    "    print(userame)\n",
    "    print(\"helo\")\n",
    "    print(9/0)\n",
    "except NameError:\n",
    "    print(\"Name error occur\")\n",
    "except:\n",
    "    print(\"Other exception\")\n"
   ]
  },
  {
   "cell_type": "code",
   "execution_count": 21,
   "metadata": {},
   "outputs": [
    {
     "ename": "Exception",
     "evalue": "Below 18 are not allowed for vote",
     "output_type": "error",
     "traceback": [
      "\u001b[1;31m---------------------------------------------------------------------------\u001b[0m",
      "\u001b[1;31mException\u001b[0m                                 Traceback (most recent call last)",
      "\u001b[1;32mC:\\Temp/ipykernel_1900/3273886094.py\u001b[0m in \u001b[0;36m<module>\u001b[1;34m\u001b[0m\n\u001b[0;32m      3\u001b[0m \u001b[0mage\u001b[0m \u001b[1;33m=\u001b[0m \u001b[0mint\u001b[0m\u001b[1;33m(\u001b[0m\u001b[0minput\u001b[0m\u001b[1;33m(\u001b[0m\u001b[1;34m\"Enter age for vote: \"\u001b[0m\u001b[1;33m)\u001b[0m\u001b[1;33m)\u001b[0m\u001b[1;33m\u001b[0m\u001b[1;33m\u001b[0m\u001b[0m\n\u001b[0;32m      4\u001b[0m \u001b[1;32mif\u001b[0m\u001b[1;33m(\u001b[0m\u001b[0mage\u001b[0m \u001b[1;33m<\u001b[0m \u001b[1;36m18\u001b[0m\u001b[1;33m)\u001b[0m\u001b[1;33m:\u001b[0m\u001b[1;33m\u001b[0m\u001b[1;33m\u001b[0m\u001b[0m\n\u001b[1;32m----> 5\u001b[1;33m     \u001b[1;32mraise\u001b[0m \u001b[0mException\u001b[0m\u001b[1;33m(\u001b[0m\u001b[1;34m\"Below 18 are not allowed for vote\"\u001b[0m\u001b[1;33m)\u001b[0m\u001b[1;33m\u001b[0m\u001b[1;33m\u001b[0m\u001b[0m\n\u001b[0m\u001b[0;32m      6\u001b[0m \u001b[1;32melse\u001b[0m\u001b[1;33m:\u001b[0m\u001b[1;33m\u001b[0m\u001b[1;33m\u001b[0m\u001b[0m\n\u001b[0;32m      7\u001b[0m     \u001b[0mprint\u001b[0m\u001b[1;33m(\u001b[0m\u001b[1;34m\"Welcome, You are elegible to vote\"\u001b[0m\u001b[1;33m)\u001b[0m\u001b[1;33m\u001b[0m\u001b[1;33m\u001b[0m\u001b[0m\n",
      "\u001b[1;31mException\u001b[0m: Below 18 are not allowed for vote"
     ]
    }
   ],
   "source": [
    "# 8. Raise user-define exception\n",
    "\n",
    "age = int(input(\"Enter age for vote: \"))\n",
    "if(age < 18):\n",
    "    raise Exception(\"Below 18 are not allowed for vote\")\n",
    "else:\n",
    "    print(\"Welcome, You are elegible to vote\")\n"
   ]
  }
 ],
 "metadata": {
  "interpreter": {
   "hash": "9ed1db5f7844330045309647f3cf3e7202c91c30619abdd3edf05f85e0785ea5"
  },
  "kernelspec": {
   "display_name": "Python 3.8.10 64-bit",
   "language": "python",
   "name": "python3"
  },
  "language_info": {
   "codemirror_mode": {
    "name": "ipython",
    "version": 3
   },
   "file_extension": ".py",
   "mimetype": "text/x-python",
   "name": "python",
   "nbconvert_exporter": "python",
   "pygments_lexer": "ipython3",
   "version": "3.8.10"
  },
  "orig_nbformat": 4
 },
 "nbformat": 4,
 "nbformat_minor": 2
}
